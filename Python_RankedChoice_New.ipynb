{
 "cells": [
  {
   "cell_type": "markdown",
   "id": "9b8ae819",
   "metadata": {
    "deletable": false,
    "editable": false,
    "nbgrader": {
     "cell_type": "markdown",
     "checksum": "d4f06e93905994edf7b5c13f8f5de97d",
     "grade": false,
     "grade_id": "cell-235edfe78fa370c1",
     "locked": true,
     "schema_version": 3,
     "solution": false,
     "task": false
    }
   },
   "source": [
    "# Python File Objects"
   ]
  },
  {
   "cell_type": "markdown",
   "id": "85c42de7",
   "metadata": {
    "deletable": false,
    "editable": false,
    "nbgrader": {
     "cell_type": "markdown",
     "checksum": "d101c54ef7c48de3afdfc4904efecd37",
     "grade": false,
     "grade_id": "cell-7268aa2ce589a4d9",
     "locked": true,
     "schema_version": 3,
     "solution": false,
     "task": false
    }
   },
   "source": [
    "### Instructions\n",
    "\n",
    "* Review the tutorial at https://github.com/cmcntsh/exerPythRankChoiceVoting\n",
    "* Complete the programming exercises below.\n",
    "* Delete or comment out the line of code in each cell which says `raise NotImplementedError()` and replace it with your own.\n",
    "\n",
    "### Exercises"
   ]
  },
  {
   "cell_type": "markdown",
   "id": "f8bafd66",
   "metadata": {
    "deletable": false,
    "editable": false,
    "nbgrader": {
     "cell_type": "markdown",
     "checksum": "5091148ded4b0f8bf0450286f68c23c8",
     "grade": false,
     "grade_id": "cell-f7d0b8cf4d4107ad",
     "locked": true,
     "schema_version": 3,
     "solution": false,
     "task": false
    }
   },
   "source": [
    "Enter code in the cell below.\n",
    "\n",
    "* Create a list called `candidates` which has the names of individuals being considered for office."
   ]
  },
  {
   "cell_type": "code",
   "execution_count": 87,
   "id": "2bfcafb5",
   "metadata": {
    "deletable": false,
    "nbgrader": {
     "cell_type": "code",
     "checksum": "af45781da1da14b8acf454c3abb9887a",
     "grade": true,
     "grade_id": "cell-fae04f75fccc369b",
     "locked": false,
     "points": 1,
     "schema_version": 3,
     "solution": true,
     "task": false
    }
   },
   "outputs": [],
   "source": [
    "candidates = ['Aragorn','Arwen','Bilbo','Elrond','Faramir','Frodo','Gandalf','Gimli','Gollum', 'Legolas','Saruman']"
   ]
  },
  {
   "cell_type": "markdown",
   "id": "c82cdff7",
   "metadata": {
    "deletable": false,
    "editable": false,
    "nbgrader": {
     "cell_type": "markdown",
     "checksum": "3a75dab73abe903b45ee5cc9f6dae8a6",
     "grade": false,
     "grade_id": "cell-ae113188f0816bdc",
     "locked": true,
     "schema_version": 3,
     "solution": false,
     "task": false
    }
   },
   "source": [
    "Enter code in the cell below.\n",
    "\n",
    "* Create list of simulated ballots: `ballots`\n",
    "* Import the random package.\n",
    "* Create an empty list called `ballots`.\n",
    "* Create a variable called `ballots_count` and assign the number of ballots you want to simulate.\n",
    "* Create simulated ballots by randomly selecting members from the candidates list. (I used the `random.sample()` function from the `random` package.)\n",
    "* Add each simulated ballot to the ballots list so you end up with a list of lists."
   ]
  },
  {
   "cell_type": "code",
   "execution_count": 88,
   "id": "49202181",
   "metadata": {
    "deletable": false,
    "nbgrader": {
     "cell_type": "code",
     "checksum": "1aca59e8058dc396d3c0f27a5c65bff4",
     "grade": true,
     "grade_id": "cell-b2ae447ae29164d3",
     "locked": false,
     "points": 2,
     "schema_version": 3,
     "solution": true,
     "task": false
    }
   },
   "outputs": [
    {
     "name": "stdout",
     "output_type": "stream",
     "text": [
      "[['Aragorn'], ['Gandalf', 'Gollum', 'Faramir', 'Arwen', 'Saruman', 'Elrond', 'Gimli', 'Bilbo', 'Frodo'], ['Faramir'], ['Elrond', 'Gollum'], ['Gimli', 'Gandalf', 'Bilbo', 'Gollum', 'Aragorn', 'Arwen'], ['Gollum', 'Elrond'], ['Aragorn', 'Gimli'], ['Saruman', 'Frodo', 'Legolas', 'Gimli', 'Gandalf'], ['Bilbo', 'Saruman', 'Elrond', 'Faramir', 'Gandalf', 'Arwen', 'Frodo', 'Gollum', 'Aragorn'], ['Frodo', 'Bilbo', 'Gollum', 'Legolas', 'Faramir'], ['Aragorn', 'Frodo', 'Elrond', 'Bilbo', 'Gandalf', 'Legolas', 'Arwen', 'Gimli', 'Gollum'], ['Legolas', 'Gollum', 'Elrond', 'Aragorn', 'Frodo', 'Faramir', 'Gandalf', 'Saruman', 'Arwen', 'Bilbo'], ['Aragorn'], ['Gimli', 'Arwen'], ['Bilbo', 'Aragorn', 'Gimli', 'Frodo', 'Elrond', 'Arwen'], ['Frodo', 'Aragorn', 'Faramir', 'Bilbo', 'Elrond', 'Arwen', 'Gollum', 'Gandalf', 'Legolas', 'Saruman', 'Gimli'], ['Elrond', 'Legolas', 'Frodo', 'Bilbo', 'Aragorn', 'Gandalf', 'Arwen', 'Saruman'], ['Elrond'], ['Arwen', 'Frodo', 'Gimli'], ['Faramir', 'Gandalf', 'Gimli', 'Aragorn', 'Gollum'], ['Legolas', 'Gimli', 'Saruman', 'Elrond', 'Gollum'], ['Arwen', 'Frodo', 'Gimli'], ['Legolas', 'Frodo', 'Arwen', 'Gimli', 'Gollum', 'Bilbo', 'Saruman', 'Gandalf', 'Elrond', 'Faramir'], ['Gimli', 'Saruman', 'Gollum'], ['Arwen', 'Aragorn', 'Gandalf'], ['Frodo', 'Legolas'], ['Gollum', 'Arwen', 'Frodo', 'Aragorn', 'Elrond', 'Legolas', 'Bilbo', 'Gandalf'], ['Arwen', 'Aragorn', 'Elrond', 'Gandalf'], ['Gandalf'], ['Gimli'], ['Legolas', 'Saruman', 'Bilbo', 'Gollum', 'Elrond', 'Aragorn', 'Gimli', 'Arwen'], ['Frodo', 'Aragorn', 'Gollum', 'Elrond', 'Faramir', 'Gimli', 'Saruman', 'Bilbo'], ['Legolas', 'Aragorn', 'Frodo', 'Gimli', 'Faramir', 'Gollum', 'Arwen', 'Elrond', 'Gandalf', 'Saruman'], ['Legolas', 'Gandalf', 'Saruman', 'Gollum', 'Bilbo', 'Arwen'], ['Elrond', 'Gimli', 'Arwen', 'Gandalf', 'Legolas', 'Faramir', 'Bilbo'], ['Legolas', 'Saruman', 'Gandalf'], ['Gimli'], ['Gollum', 'Saruman', 'Faramir', 'Gimli', 'Aragorn', 'Frodo', 'Bilbo'], ['Arwen', 'Frodo'], ['Saruman', 'Frodo', 'Gollum', 'Bilbo', 'Gimli', 'Arwen', 'Gandalf', 'Faramir'], ['Gandalf', 'Frodo', 'Faramir', 'Gollum', 'Legolas', 'Gimli', 'Aragorn', 'Arwen', 'Bilbo', 'Saruman'], ['Gandalf', 'Gollum', 'Elrond', 'Gimli', 'Bilbo', 'Faramir', 'Aragorn'], ['Faramir', 'Bilbo', 'Legolas'], ['Elrond', 'Gimli', 'Gandalf', 'Gollum', 'Faramir'], ['Faramir', 'Bilbo', 'Arwen', 'Aragorn', 'Gimli'], ['Frodo'], ['Arwen', 'Bilbo', 'Elrond', 'Gimli', 'Faramir', 'Saruman', 'Legolas', 'Aragorn', 'Gollum'], ['Arwen', 'Bilbo', 'Faramir'], ['Gollum', 'Frodo', 'Arwen', 'Faramir', 'Legolas', 'Elrond', 'Aragorn'], ['Frodo', 'Legolas', 'Gollum', 'Arwen', 'Bilbo', 'Aragorn', 'Saruman', 'Faramir', 'Gimli', 'Gandalf', 'Elrond'], ['Frodo', 'Aragorn', 'Gimli', 'Elrond', 'Arwen', 'Saruman', 'Bilbo', 'Gollum', 'Legolas'], ['Legolas', 'Gimli', 'Gandalf', 'Saruman', 'Frodo', 'Faramir', 'Arwen', 'Aragorn'], ['Elrond'], ['Bilbo', 'Legolas', 'Gimli', 'Gollum', 'Frodo', 'Faramir'], ['Saruman'], ['Elrond', 'Gollum', 'Frodo', 'Arwen', 'Aragorn', 'Saruman'], ['Saruman', 'Aragorn', 'Arwen', 'Faramir', 'Legolas', 'Gandalf', 'Gimli', 'Elrond', 'Frodo', 'Bilbo', 'Gollum'], ['Aragorn', 'Gandalf', 'Bilbo', 'Arwen', 'Gimli', 'Saruman'], ['Elrond'], ['Faramir', 'Aragorn'], ['Legolas', 'Arwen', 'Gimli'], ['Legolas', 'Gimli', 'Gollum', 'Aragorn'], ['Frodo'], ['Saruman'], ['Elrond', 'Legolas', 'Faramir', 'Gimli', 'Frodo', 'Gandalf', 'Aragorn', 'Arwen'], ['Elrond', 'Saruman', 'Frodo', 'Faramir', 'Gimli'], ['Frodo', 'Legolas'], ['Aragorn', 'Legolas', 'Bilbo', 'Gollum', 'Gimli', 'Saruman', 'Faramir', 'Frodo'], ['Gimli', 'Gandalf', 'Arwen', 'Legolas', 'Bilbo', 'Faramir', 'Elrond', 'Saruman', 'Gollum', 'Frodo'], ['Bilbo', 'Arwen', 'Saruman', 'Gandalf', 'Faramir', 'Legolas', 'Elrond', 'Frodo', 'Gollum'], ['Bilbo', 'Gimli', 'Elrond', 'Gandalf', 'Saruman', 'Frodo'], ['Gollum', 'Elrond', 'Gimli', 'Legolas', 'Saruman', 'Aragorn', 'Gandalf', 'Arwen', 'Bilbo'], ['Gimli', 'Legolas', 'Gandalf', 'Bilbo', 'Aragorn'], ['Aragorn', 'Arwen', 'Elrond', 'Gandalf', 'Legolas', 'Saruman', 'Gimli'], ['Frodo', 'Arwen', 'Faramir', 'Elrond', 'Gollum', 'Aragorn', 'Saruman', 'Gandalf', 'Gimli', 'Bilbo'], ['Saruman', 'Faramir', 'Elrond', 'Legolas', 'Gollum', 'Gimli', 'Arwen', 'Aragorn', 'Frodo'], ['Gimli', 'Aragorn', 'Saruman', 'Legolas', 'Arwen'], ['Arwen', 'Gandalf', 'Aragorn', 'Faramir', 'Frodo', 'Elrond', 'Legolas', 'Saruman', 'Bilbo', 'Gollum'], ['Gollum', 'Faramir', 'Gimli'], ['Faramir', 'Frodo', 'Gollum', 'Gandalf', 'Saruman', 'Gimli', 'Legolas', 'Bilbo', 'Aragorn', 'Elrond'], ['Saruman', 'Bilbo', 'Elrond', 'Aragorn', 'Arwen', 'Gimli', 'Faramir', 'Legolas'], ['Faramir', 'Saruman', 'Arwen', 'Gimli', 'Frodo', 'Gollum', 'Bilbo', 'Legolas', 'Elrond', 'Gandalf'], ['Aragorn', 'Faramir', 'Arwen'], ['Gimli'], ['Gandalf', 'Elrond', 'Arwen', 'Aragorn', 'Gollum'], ['Frodo', 'Arwen', 'Gandalf', 'Faramir', 'Bilbo', 'Gollum', 'Saruman'], ['Faramir', 'Aragorn'], ['Aragorn', 'Legolas', 'Gollum', 'Bilbo', 'Arwen', 'Elrond', 'Faramir', 'Gandalf', 'Frodo', 'Saruman'], ['Elrond', 'Legolas', 'Bilbo', 'Frodo', 'Arwen'], ['Gimli', 'Gandalf', 'Faramir', 'Gollum', 'Bilbo', 'Saruman', 'Aragorn', 'Legolas'], ['Faramir', 'Frodo', 'Saruman', 'Gandalf', 'Aragorn', 'Elrond'], ['Arwen', 'Gandalf', 'Gimli', 'Gollum', 'Elrond', 'Aragorn', 'Faramir', 'Saruman', 'Frodo'], ['Elrond', 'Gimli', 'Frodo', 'Gollum', 'Arwen'], ['Elrond', 'Saruman', 'Arwen', 'Gandalf', 'Gollum', 'Gimli'], ['Elrond', 'Legolas', 'Gimli', 'Saruman', 'Bilbo'], ['Arwen'], ['Gollum', 'Elrond', 'Gimli', 'Arwen', 'Bilbo', 'Aragorn', 'Saruman', 'Gandalf', 'Frodo', 'Faramir', 'Legolas'], ['Gandalf', 'Legolas', 'Faramir', 'Gollum', 'Aragorn', 'Frodo', 'Saruman', 'Gimli', 'Arwen', 'Elrond'], ['Aragorn', 'Legolas'], ['Legolas', 'Arwen', 'Gimli', 'Faramir', 'Gollum', 'Aragorn'], ['Arwen', 'Saruman', 'Gollum', 'Elrond', 'Gimli', 'Gandalf'], ['Frodo', 'Legolas', 'Elrond', 'Bilbo', 'Arwen', 'Gollum', 'Saruman', 'Aragorn', 'Gimli', 'Gandalf', 'Faramir'], ['Legolas', 'Gandalf', 'Gollum', 'Arwen'], ['Legolas', 'Saruman', 'Bilbo'], ['Gollum', 'Aragorn', 'Gimli', 'Faramir', 'Frodo', 'Bilbo', 'Arwen', 'Saruman'], ['Arwen', 'Gandalf', 'Legolas', 'Aragorn', 'Bilbo', 'Elrond', 'Faramir', 'Gimli'], ['Arwen', 'Gimli', 'Elrond', 'Gollum'], ['Gollum', 'Elrond', 'Saruman', 'Faramir', 'Gandalf', 'Aragorn', 'Gimli'], ['Legolas', 'Bilbo', 'Aragorn'], ['Gollum', 'Saruman', 'Elrond'], ['Legolas', 'Gollum', 'Aragorn', 'Gandalf', 'Saruman', 'Arwen', 'Bilbo', 'Faramir'], ['Faramir', 'Arwen'], ['Gimli', 'Arwen', 'Bilbo', 'Faramir', 'Aragorn', 'Legolas', 'Frodo', 'Saruman', 'Elrond'], ['Gimli', 'Aragorn', 'Gandalf', 'Frodo', 'Arwen', 'Legolas', 'Elrond'], ['Gollum', 'Arwen'], ['Elrond', 'Legolas', 'Gimli', 'Gollum', 'Aragorn'], ['Faramir', 'Gandalf', 'Legolas', 'Gimli'], ['Legolas', 'Saruman', 'Aragorn', 'Gimli', 'Gandalf', 'Bilbo', 'Frodo', 'Arwen', 'Elrond', 'Faramir'], ['Gandalf', 'Saruman'], ['Elrond', 'Gollum', 'Bilbo', 'Faramir', 'Gimli', 'Gandalf', 'Saruman', 'Aragorn', 'Frodo', 'Arwen'], ['Gandalf', 'Arwen', 'Bilbo', 'Gollum', 'Faramir', 'Elrond', 'Aragorn', 'Gimli', 'Saruman', 'Legolas'], ['Aragorn', 'Arwen', 'Saruman', 'Gandalf'], ['Legolas', 'Aragorn', 'Arwen', 'Frodo', 'Faramir'], ['Saruman', 'Faramir', 'Frodo', 'Elrond', 'Gandalf', 'Gollum', 'Gimli', 'Legolas'], ['Gandalf', 'Arwen', 'Gimli', 'Frodo', 'Elrond', 'Bilbo', 'Aragorn', 'Gollum', 'Legolas', 'Saruman'], ['Arwen', 'Gandalf', 'Gimli', 'Gollum', 'Frodo', 'Saruman', 'Bilbo', 'Elrond', 'Aragorn'], ['Gandalf', 'Gollum', 'Frodo', 'Saruman', 'Bilbo', 'Arwen'], ['Saruman', 'Bilbo', 'Frodo', 'Aragorn', 'Elrond', 'Legolas'], ['Faramir', 'Aragorn', 'Gollum', 'Gimli', 'Legolas', 'Bilbo', 'Elrond', 'Arwen', 'Gandalf'], ['Gandalf', 'Legolas', 'Frodo', 'Faramir', 'Saruman', 'Gollum', 'Gimli', 'Aragorn', 'Bilbo', 'Elrond', 'Arwen'], ['Gollum', 'Bilbo', 'Gimli', 'Saruman', 'Faramir', 'Elrond', 'Gandalf', 'Aragorn', 'Frodo', 'Legolas', 'Arwen'], ['Gollum', 'Aragorn', 'Faramir', 'Frodo', 'Legolas', 'Saruman'], ['Gollum', 'Aragorn', 'Gandalf', 'Bilbo', 'Legolas'], ['Arwen', 'Faramir', 'Gimli', 'Legolas', 'Saruman'], ['Aragorn', 'Elrond', 'Gandalf', 'Faramir', 'Gimli', 'Legolas', 'Gollum', 'Frodo', 'Arwen'], ['Gollum', 'Arwen', 'Bilbo', 'Gandalf', 'Elrond', 'Aragorn'], ['Elrond', 'Gollum', 'Legolas', 'Gimli', 'Aragorn', 'Frodo'], ['Gimli', 'Gandalf', 'Saruman'], ['Gandalf', 'Aragorn', 'Elrond', 'Gimli', 'Faramir', 'Gollum', 'Saruman', 'Arwen'], ['Faramir', 'Frodo', 'Saruman', 'Gimli'], ['Gollum', 'Bilbo', 'Gimli', 'Gandalf'], ['Legolas', 'Gandalf', 'Gimli', 'Aragorn'], ['Legolas'], ['Aragorn', 'Gollum', 'Frodo'], ['Aragorn'], ['Arwen', 'Faramir', 'Bilbo', 'Gandalf', 'Frodo', 'Elrond', 'Legolas'], ['Bilbo', 'Aragorn'], ['Frodo', 'Faramir', 'Gimli', 'Aragorn'], ['Gimli', 'Faramir', 'Aragorn', 'Saruman', 'Bilbo', 'Frodo', 'Arwen', 'Gandalf', 'Elrond', 'Gollum', 'Legolas'], ['Gandalf', 'Aragorn', 'Saruman', 'Bilbo', 'Legolas', 'Gollum', 'Elrond'], ['Gollum', 'Faramir', 'Gandalf', 'Arwen'], ['Faramir', 'Gandalf', 'Frodo'], ['Bilbo', 'Gimli', 'Elrond', 'Arwen', 'Frodo'], ['Gandalf', 'Aragorn', 'Elrond'], ['Legolas', 'Faramir', 'Gollum', 'Gimli', 'Bilbo', 'Frodo', 'Saruman', 'Arwen', 'Gandalf', 'Elrond'], ['Gimli', 'Gandalf', 'Arwen', 'Faramir', 'Bilbo', 'Aragorn', 'Elrond'], ['Gandalf', 'Elrond', 'Aragorn', 'Arwen', 'Gimli', 'Faramir', 'Bilbo', 'Legolas', 'Saruman', 'Gollum', 'Frodo'], ['Faramir', 'Gollum', 'Aragorn', 'Gandalf', 'Bilbo', 'Frodo', 'Arwen'], ['Elrond'], ['Bilbo', 'Aragorn'], ['Legolas', 'Gandalf', 'Gollum', 'Faramir', 'Gimli', 'Saruman', 'Frodo', 'Bilbo', 'Arwen', 'Aragorn'], ['Gimli', 'Frodo', 'Legolas', 'Saruman'], ['Frodo', 'Elrond', 'Aragorn', 'Faramir', 'Legolas', 'Gimli', 'Gollum'], ['Arwen', 'Aragorn', 'Elrond', 'Gandalf', 'Gimli', 'Gollum'], ['Gollum'], ['Saruman', 'Gimli', 'Arwen', 'Faramir', 'Frodo', 'Gandalf', 'Elrond', 'Aragorn', 'Gollum'], ['Frodo', 'Gollum', 'Elrond', 'Saruman', 'Gimli', 'Legolas', 'Arwen', 'Bilbo', 'Aragorn', 'Gandalf', 'Faramir'], ['Faramir', 'Bilbo', 'Frodo', 'Gimli', 'Aragorn', 'Gollum', 'Arwen'], ['Frodo', 'Bilbo', 'Aragorn', 'Faramir'], ['Aragorn', 'Faramir', 'Bilbo', 'Saruman', 'Frodo', 'Elrond', 'Gandalf', 'Gimli'], ['Faramir', 'Frodo', 'Gimli', 'Elrond', 'Bilbo', 'Gollum', 'Aragorn', 'Gandalf', 'Legolas', 'Saruman'], ['Saruman', 'Bilbo', 'Frodo', 'Elrond', 'Legolas', 'Gandalf', 'Faramir'], ['Gimli', 'Legolas', 'Gollum', 'Saruman', 'Faramir', 'Elrond', 'Gandalf', 'Aragorn', 'Frodo'], ['Elrond', 'Faramir', 'Arwen'], ['Gimli', 'Aragorn', 'Legolas', 'Arwen', 'Elrond', 'Frodo', 'Bilbo', 'Gandalf'], ['Legolas', 'Gimli', 'Bilbo', 'Gollum', 'Saruman', 'Elrond', 'Gandalf', 'Frodo', 'Faramir', 'Aragorn', 'Arwen'], ['Faramir', 'Gandalf'], ['Aragorn', 'Frodo', 'Bilbo', 'Saruman', 'Legolas', 'Gollum', 'Faramir', 'Arwen'], ['Elrond', 'Aragorn', 'Bilbo'], ['Gimli', 'Faramir', 'Gandalf', 'Bilbo', 'Elrond', 'Frodo', 'Arwen', 'Gollum'], ['Gollum', 'Bilbo', 'Elrond', 'Faramir', 'Frodo', 'Saruman', 'Aragorn'], ['Legolas', 'Gandalf', 'Aragorn', 'Gollum', 'Saruman', 'Faramir', 'Arwen', 'Elrond', 'Gimli', 'Frodo', 'Bilbo'], ['Frodo', 'Saruman'], ['Gimli', 'Saruman', 'Bilbo', 'Frodo', 'Legolas'], ['Gandalf', 'Gimli', 'Elrond'], ['Elrond', 'Gandalf', 'Legolas'], ['Faramir', 'Bilbo'], ['Faramir', 'Frodo', 'Gimli', 'Gollum', 'Elrond'], ['Gimli', 'Gollum', 'Saruman', 'Bilbo', 'Faramir'], ['Bilbo', 'Gandalf', 'Gollum', 'Saruman', 'Legolas', 'Gimli', 'Arwen', 'Elrond'], ['Legolas', 'Gollum', 'Saruman', 'Frodo'], ['Bilbo', 'Elrond', 'Saruman', 'Arwen', 'Gimli', 'Faramir', 'Aragorn', 'Gollum', 'Frodo', 'Gandalf', 'Legolas'], ['Bilbo', 'Gollum', 'Arwen', 'Saruman', 'Gimli', 'Gandalf', 'Aragorn', 'Elrond'], ['Gimli', 'Frodo', 'Elrond', 'Saruman', 'Legolas', 'Aragorn', 'Arwen', 'Gollum', 'Gandalf'], ['Gandalf', 'Saruman', 'Arwen', 'Gimli', 'Frodo'], ['Saruman', 'Arwen', 'Gimli', 'Aragorn', 'Elrond', 'Frodo', 'Faramir', 'Gollum', 'Bilbo', 'Legolas', 'Gandalf'], ['Frodo', 'Arwen', 'Bilbo', 'Elrond', 'Gollum', 'Gandalf', 'Saruman', 'Legolas', 'Aragorn', 'Gimli'], ['Gollum', 'Faramir', 'Gandalf', 'Aragorn', 'Saruman', 'Gimli', 'Arwen', 'Frodo', 'Elrond', 'Legolas'], ['Gimli', 'Aragorn', 'Faramir', 'Legolas', 'Arwen', 'Elrond', 'Saruman', 'Bilbo', 'Gandalf', 'Gollum', 'Frodo'], ['Saruman', 'Gandalf', 'Arwen', 'Faramir', 'Gimli', 'Gollum', 'Bilbo', 'Frodo', 'Legolas', 'Elrond'], ['Frodo', 'Gandalf', 'Gimli', 'Saruman', 'Gollum', 'Bilbo', 'Faramir', 'Arwen', 'Elrond', 'Aragorn', 'Legolas'], ['Aragorn', 'Bilbo', 'Arwen', 'Gimli', 'Gandalf'], ['Aragorn', 'Gimli', 'Elrond'], ['Bilbo', 'Legolas', 'Gollum', 'Gandalf', 'Frodo', 'Aragorn', 'Saruman', 'Faramir', 'Elrond', 'Gimli', 'Arwen'], ['Elrond', 'Gandalf', 'Bilbo', 'Aragorn'], ['Gandalf', 'Saruman', 'Faramir', 'Frodo', 'Arwen', 'Elrond', 'Bilbo', 'Aragorn'], ['Frodo', 'Arwen', 'Gimli', 'Elrond', 'Bilbo', 'Gandalf', 'Legolas', 'Aragorn'], ['Aragorn', 'Elrond', 'Arwen', 'Gollum', 'Legolas', 'Saruman'], ['Gimli', 'Legolas'], ['Saruman', 'Gandalf'], ['Gandalf', 'Faramir'], ['Bilbo'], ['Gandalf', 'Saruman', 'Legolas', 'Bilbo', 'Gollum', 'Frodo', 'Faramir', 'Gimli', 'Elrond'], ['Frodo', 'Faramir', 'Gollum', 'Aragorn'], ['Saruman'], ['Elrond', 'Gimli', 'Legolas', 'Faramir', 'Saruman', 'Gollum', 'Frodo', 'Gandalf', 'Bilbo', 'Arwen', 'Aragorn'], ['Arwen', 'Gandalf', 'Saruman'], ['Arwen', 'Elrond', 'Gandalf', 'Faramir', 'Gollum', 'Frodo'], ['Faramir', 'Arwen', 'Frodo'], ['Faramir', 'Gimli', 'Arwen', 'Saruman', 'Legolas', 'Elrond', 'Gollum'], ['Arwen', 'Gandalf', 'Frodo', 'Gimli', 'Gollum'], ['Gandalf', 'Saruman', 'Gimli', 'Arwen', 'Frodo', 'Aragorn', 'Bilbo'], ['Frodo', 'Gandalf', 'Gollum', 'Arwen', 'Elrond', 'Aragorn'], ['Frodo', 'Elrond', 'Legolas', 'Faramir', 'Bilbo', 'Saruman', 'Gimli', 'Arwen'], ['Elrond', 'Gollum', 'Frodo', 'Bilbo', 'Saruman', 'Gimli', 'Arwen', 'Gandalf'], ['Elrond', 'Aragorn', 'Arwen', 'Gollum'], ['Frodo'], ['Gandalf', 'Elrond', 'Aragorn', 'Faramir', 'Gollum', 'Arwen', 'Legolas', 'Saruman', 'Bilbo', 'Frodo', 'Gimli'], ['Gollum', 'Gandalf', 'Aragorn', 'Saruman', 'Gimli', 'Faramir', 'Bilbo', 'Legolas', 'Elrond'], ['Gandalf', 'Gollum', 'Frodo'], ['Elrond', 'Faramir'], ['Arwen', 'Faramir', 'Gandalf', 'Elrond', 'Bilbo', 'Frodo', 'Aragorn', 'Gollum', 'Gimli', 'Saruman'], ['Aragorn', 'Frodo', 'Gollum', 'Gandalf', 'Legolas'], ['Elrond', 'Gollum', 'Bilbo', 'Faramir', 'Gandalf'], ['Arwen', 'Legolas', 'Gimli', 'Saruman', 'Aragorn'], ['Elrond', 'Gollum', 'Gimli', 'Aragorn', 'Saruman'], ['Gandalf', 'Gollum', 'Faramir', 'Arwen', 'Legolas', 'Frodo', 'Elrond', 'Saruman', 'Gimli', 'Bilbo'], ['Faramir', 'Gollum'], ['Gandalf', 'Legolas', 'Aragorn', 'Gimli', 'Arwen', 'Faramir'], ['Legolas', 'Bilbo', 'Aragorn', 'Elrond'], ['Arwen'], ['Faramir'], ['Gandalf', 'Legolas', 'Faramir'], ['Arwen', 'Gandalf', 'Frodo'], ['Elrond', 'Gimli', 'Gandalf', 'Gollum', 'Frodo', 'Saruman', 'Arwen'], ['Gollum', 'Faramir', 'Aragorn', 'Arwen'], ['Saruman', 'Bilbo', 'Frodo', 'Aragorn'], ['Legolas', 'Arwen', 'Faramir', 'Aragorn', 'Gandalf', 'Elrond', 'Gollum', 'Saruman', 'Bilbo'], ['Gimli', 'Gandalf', 'Faramir', 'Aragorn'], ['Arwen', 'Frodo', 'Aragorn', 'Gollum', 'Faramir', 'Gandalf', 'Elrond', 'Gimli', 'Saruman'], ['Bilbo', 'Saruman', 'Faramir', 'Gimli', 'Gandalf'], ['Arwen', 'Elrond', 'Gandalf', 'Frodo', 'Aragorn', 'Gollum', 'Saruman', 'Gimli', 'Bilbo'], ['Gimli', 'Faramir', 'Aragorn', 'Gandalf', 'Elrond', 'Gollum', 'Arwen', 'Frodo', 'Bilbo'], ['Aragorn', 'Gollum', 'Saruman', 'Faramir', 'Gimli', 'Arwen', 'Bilbo', 'Legolas', 'Frodo', 'Elrond'], ['Frodo', 'Aragorn', 'Gollum'], ['Saruman', 'Gollum', 'Frodo', 'Elrond'], ['Arwen', 'Elrond', 'Legolas', 'Gollum', 'Aragorn', 'Gandalf', 'Saruman', 'Faramir'], ['Legolas', 'Faramir', 'Gandalf', 'Bilbo', 'Gollum'], ['Faramir', 'Saruman', 'Gollum', 'Gandalf', 'Aragorn', 'Frodo', 'Legolas'], ['Gimli', 'Elrond', 'Gandalf', 'Legolas', 'Faramir', 'Bilbo'], ['Gimli', 'Arwen', 'Gollum', 'Gandalf', 'Saruman'], ['Faramir', 'Gandalf', 'Elrond', 'Aragorn', 'Legolas', 'Gollum', 'Arwen', 'Saruman', 'Frodo', 'Gimli', 'Bilbo'], ['Elrond', 'Gandalf', 'Aragorn', 'Arwen', 'Gimli', 'Legolas'], ['Faramir', 'Gandalf', 'Gollum', 'Legolas'], ['Legolas', 'Faramir', 'Gandalf', 'Arwen', 'Gollum', 'Gimli', 'Saruman'], ['Arwen', 'Legolas', 'Gollum', 'Faramir', 'Elrond', 'Bilbo', 'Frodo', 'Gandalf', 'Gimli'], ['Bilbo', 'Faramir'], ['Bilbo', 'Gollum', 'Gandalf', 'Aragorn', 'Faramir', 'Frodo', 'Arwen', 'Elrond', 'Saruman'], ['Elrond', 'Faramir'], ['Gimli', 'Aragorn', 'Gandalf', 'Arwen', 'Frodo', 'Legolas', 'Saruman', 'Elrond'], ['Arwen', 'Elrond', 'Bilbo', 'Frodo', 'Legolas', 'Gollum', 'Faramir', 'Gimli', 'Aragorn'], ['Gandalf', 'Legolas'], ['Saruman', 'Bilbo'], ['Elrond'], ['Gandalf', 'Legolas', 'Aragorn', 'Frodo', 'Bilbo', 'Gollum', 'Arwen', 'Elrond', 'Gimli', 'Faramir'], ['Aragorn', 'Gollum', 'Elrond', 'Arwen'], ['Arwen', 'Gandalf', 'Saruman', 'Frodo', 'Faramir', 'Bilbo', 'Legolas'], ['Gimli', 'Frodo', 'Saruman', 'Arwen', 'Aragorn', 'Bilbo', 'Gandalf', 'Legolas', 'Elrond', 'Faramir'], ['Faramir', 'Gandalf', 'Arwen', 'Legolas', 'Aragorn', 'Gollum', 'Bilbo', 'Saruman'], ['Saruman', 'Gimli', 'Elrond', 'Aragorn', 'Arwen', 'Legolas', 'Bilbo', 'Frodo'], ['Frodo', 'Gimli', 'Faramir', 'Arwen', 'Aragorn', 'Bilbo'], ['Faramir'], ['Saruman', 'Bilbo', 'Gollum', 'Legolas', 'Aragorn', 'Elrond'], ['Faramir'], ['Saruman', 'Legolas', 'Elrond', 'Gimli', 'Faramir', 'Arwen', 'Frodo', 'Gollum', 'Bilbo', 'Aragorn'], ['Gandalf', 'Gollum', 'Faramir', 'Aragorn', 'Saruman', 'Legolas', 'Elrond', 'Arwen', 'Gimli'], ['Aragorn'], ['Saruman'], ['Gandalf', 'Gimli', 'Bilbo', 'Legolas', 'Aragorn', 'Frodo', 'Gollum'], ['Legolas', 'Saruman', 'Arwen', 'Faramir', 'Elrond'], ['Saruman', 'Aragorn', 'Arwen', 'Frodo', 'Elrond', 'Legolas', 'Gandalf', 'Bilbo'], ['Saruman', 'Gollum'], ['Saruman', 'Gandalf', 'Gimli', 'Aragorn', 'Frodo', 'Bilbo', 'Arwen', 'Legolas', 'Elrond', 'Gollum'], ['Frodo', 'Elrond', 'Gimli', 'Aragorn'], ['Gimli', 'Elrond'], ['Gandalf', 'Gollum', 'Arwen', 'Frodo', 'Elrond'], ['Gimli', 'Gandalf', 'Frodo', 'Legolas', 'Bilbo', 'Faramir', 'Elrond', 'Arwen', 'Aragorn', 'Saruman', 'Gollum'], ['Saruman', 'Gimli', 'Bilbo'], ['Bilbo', 'Aragorn', 'Gimli', 'Arwen', 'Elrond', 'Saruman', 'Gandalf', 'Legolas', 'Gollum', 'Faramir'], ['Faramir', 'Legolas', 'Arwen', 'Aragorn', 'Gollum', 'Gimli', 'Saruman', 'Gandalf', 'Bilbo', 'Frodo'], ['Saruman', 'Bilbo', 'Elrond'], ['Gollum', 'Aragorn', 'Gandalf', 'Faramir', 'Elrond', 'Frodo', 'Bilbo'], ['Legolas', 'Elrond', 'Faramir', 'Bilbo', 'Gollum', 'Arwen', 'Gimli', 'Saruman'], ['Elrond'], ['Arwen', 'Elrond', 'Bilbo', 'Saruman', 'Aragorn', 'Frodo', 'Legolas'], ['Gollum', 'Frodo', 'Gimli', 'Bilbo', 'Aragorn'], ['Saruman', 'Gollum'], ['Aragorn', 'Gandalf', 'Gollum', 'Legolas', 'Saruman'], ['Faramir', 'Saruman', 'Gimli', 'Frodo', 'Bilbo', 'Gandalf', 'Gollum'], ['Frodo', 'Gandalf', 'Faramir'], ['Bilbo', 'Gimli', 'Frodo', 'Gollum', 'Faramir', 'Legolas'], ['Legolas', 'Arwen'], ['Legolas', 'Gandalf', 'Gimli', 'Arwen', 'Bilbo', 'Aragorn', 'Faramir', 'Frodo', 'Saruman', 'Elrond'], ['Gimli', 'Gollum', 'Arwen', 'Bilbo', 'Legolas', 'Gandalf', 'Saruman', 'Faramir', 'Frodo', 'Aragorn', 'Elrond'], ['Gollum', 'Elrond', 'Faramir'], ['Frodo', 'Gimli', 'Faramir', 'Arwen', 'Aragorn'], ['Elrond', 'Arwen'], ['Gandalf'], ['Faramir', 'Elrond', 'Gimli', 'Frodo', 'Gollum', 'Aragorn', 'Gandalf', 'Bilbo'], ['Aragorn', 'Saruman', 'Elrond', 'Legolas', 'Faramir', 'Gollum', 'Gimli', 'Arwen', 'Gandalf', 'Frodo'], ['Frodo', 'Gollum', 'Legolas', 'Gimli', 'Elrond'], ['Arwen', 'Bilbo', 'Gimli', 'Elrond', 'Gollum', 'Aragorn', 'Gandalf', 'Legolas', 'Faramir', 'Frodo'], ['Gimli', 'Elrond', 'Arwen', 'Frodo', 'Gandalf', 'Gollum', 'Bilbo', 'Faramir', 'Aragorn'], ['Gandalf', 'Elrond', 'Aragorn', 'Arwen', 'Gollum', 'Frodo', 'Faramir'], ['Gimli', 'Bilbo', 'Faramir', 'Elrond'], ['Frodo', 'Aragorn', 'Gimli', 'Gollum', 'Bilbo', 'Arwen', 'Elrond', 'Gandalf'], ['Bilbo', 'Gandalf'], ['Saruman', 'Aragorn', 'Arwen', 'Legolas'], ['Saruman', 'Frodo', 'Aragorn', 'Faramir', 'Gimli', 'Gollum', 'Arwen', 'Legolas', 'Elrond', 'Gandalf'], ['Gollum', 'Aragorn', 'Bilbo', 'Elrond', 'Arwen'], ['Faramir', 'Elrond'], ['Gandalf', 'Elrond', 'Legolas', 'Aragorn', 'Gimli', 'Arwen', 'Gollum', 'Saruman', 'Bilbo', 'Frodo', 'Faramir'], ['Legolas', 'Gimli', 'Frodo', 'Aragorn', 'Elrond', 'Bilbo'], ['Gandalf'], ['Gandalf', 'Saruman', 'Gimli', 'Frodo', 'Bilbo', 'Elrond', 'Legolas', 'Gollum', 'Arwen', 'Aragorn', 'Faramir'], ['Aragorn', 'Frodo', 'Saruman'], ['Saruman', 'Bilbo', 'Arwen', 'Faramir', 'Aragorn', 'Frodo', 'Legolas', 'Gandalf', 'Elrond', 'Gollum', 'Gimli'], ['Frodo', 'Arwen', 'Elrond', 'Faramir'], ['Faramir', 'Gollum', 'Elrond', 'Gandalf', 'Bilbo'], ['Gimli', 'Frodo', 'Faramir', 'Bilbo', 'Legolas', 'Arwen', 'Gollum'], ['Saruman'], ['Saruman', 'Faramir', 'Gollum', 'Legolas', 'Gandalf'], ['Gimli', 'Frodo', 'Elrond', 'Arwen', 'Aragorn', 'Gandalf', 'Legolas', 'Bilbo', 'Saruman'], ['Aragorn'], ['Arwen', 'Bilbo', 'Aragorn', 'Faramir', 'Gandalf', 'Legolas', 'Frodo', 'Saruman', 'Gollum'], ['Bilbo', 'Faramir', 'Aragorn', 'Frodo', 'Elrond'], ['Aragorn', 'Bilbo', 'Gollum', 'Frodo', 'Gimli', 'Faramir', 'Gandalf'], ['Frodo', 'Faramir', 'Gandalf', 'Aragorn', 'Gollum', 'Legolas'], ['Faramir', 'Arwen', 'Saruman', 'Gimli', 'Elrond', 'Aragorn', 'Gollum', 'Legolas', 'Frodo', 'Gandalf'], ['Bilbo', 'Gollum', 'Arwen'], ['Frodo', 'Bilbo', 'Faramir', 'Legolas', 'Elrond', 'Saruman', 'Gimli', 'Gollum', 'Arwen', 'Aragorn', 'Gandalf'], ['Aragorn', 'Arwen', 'Gollum', 'Legolas', 'Faramir'], ['Gimli', 'Frodo', 'Arwen', 'Faramir', 'Bilbo', 'Legolas', 'Elrond'], ['Elrond', 'Gimli', 'Gandalf', 'Aragorn', 'Arwen', 'Bilbo', 'Gollum', 'Frodo', 'Legolas'], ['Frodo', 'Legolas', 'Bilbo', 'Aragorn', 'Gollum', 'Elrond'], ['Gandalf', 'Bilbo', 'Legolas', 'Gimli', 'Gollum', 'Saruman', 'Frodo', 'Arwen', 'Faramir', 'Elrond'], ['Elrond', 'Arwen', 'Aragorn', 'Saruman', 'Gimli', 'Bilbo', 'Gandalf', 'Legolas', 'Gollum', 'Frodo'], ['Aragorn', 'Frodo', 'Bilbo', 'Elrond', 'Gandalf', 'Saruman', 'Faramir'], ['Legolas', 'Arwen', 'Saruman', 'Frodo', 'Elrond', 'Gollum', 'Bilbo', 'Aragorn', 'Gandalf', 'Gimli', 'Faramir'], ['Legolas'], ['Gollum', 'Aragorn', 'Gimli', 'Elrond', 'Gandalf'], ['Bilbo', 'Legolas', 'Gollum', 'Elrond', 'Saruman', 'Arwen', 'Gandalf', 'Aragorn', 'Gimli', 'Faramir'], ['Legolas', 'Gimli', 'Gollum', 'Elrond'], ['Aragorn', 'Legolas'], ['Aragorn'], ['Gimli', 'Elrond', 'Aragorn', 'Gollum', 'Frodo', 'Saruman', 'Bilbo', 'Faramir', 'Arwen', 'Legolas', 'Gandalf'], ['Legolas', 'Arwen', 'Gandalf'], ['Arwen', 'Gandalf', 'Gollum', 'Aragorn', 'Saruman', 'Gimli', 'Frodo'], ['Faramir', 'Bilbo', 'Saruman', 'Frodo', 'Gimli'], ['Bilbo', 'Legolas', 'Arwen', 'Faramir', 'Elrond', 'Frodo', 'Gandalf', 'Saruman'], ['Legolas', 'Saruman', 'Arwen', 'Gimli', 'Gollum', 'Faramir', 'Elrond'], ['Bilbo'], ['Gollum', 'Gimli', 'Elrond', 'Legolas', 'Bilbo'], ['Elrond'], ['Saruman', 'Frodo', 'Gimli', 'Faramir', 'Elrond'], ['Gollum', 'Gimli', 'Legolas', 'Elrond', 'Bilbo', 'Aragorn', 'Gandalf', 'Arwen', 'Saruman', 'Frodo'], ['Faramir', 'Gollum', 'Saruman', 'Gimli', 'Gandalf'], ['Arwen', 'Legolas', 'Faramir'], ['Gandalf', 'Frodo', 'Arwen', 'Saruman', 'Gollum', 'Aragorn', 'Gimli', 'Bilbo', 'Elrond'], ['Arwen', 'Elrond', 'Gollum', 'Faramir', 'Legolas', 'Bilbo', 'Aragorn'], ['Saruman', 'Arwen', 'Frodo', 'Legolas', 'Gandalf', 'Bilbo', 'Faramir', 'Aragorn', 'Gimli', 'Gollum', 'Elrond'], ['Gimli', 'Gollum', 'Faramir', 'Gandalf', 'Bilbo', 'Legolas', 'Elrond'], ['Gollum', 'Legolas', 'Arwen', 'Saruman'], ['Faramir', 'Gollum', 'Gandalf', 'Bilbo', 'Elrond'], ['Legolas', 'Elrond', 'Aragorn', 'Saruman', 'Gandalf', 'Bilbo', 'Frodo'], ['Gollum', 'Aragorn'], ['Bilbo', 'Aragorn', 'Saruman', 'Faramir', 'Gimli', 'Gandalf'], ['Gandalf', 'Bilbo', 'Saruman', 'Arwen', 'Faramir', 'Gimli', 'Aragorn', 'Legolas'], ['Gandalf', 'Aragorn', 'Gollum', 'Elrond', 'Arwen', 'Bilbo', 'Gimli', 'Saruman', 'Legolas', 'Faramir'], ['Gandalf', 'Arwen', 'Gollum', 'Aragorn', 'Faramir', 'Saruman', 'Gimli', 'Elrond', 'Bilbo'], ['Gandalf', 'Elrond', 'Gollum', 'Faramir', 'Arwen', 'Aragorn', 'Bilbo'], ['Gandalf', 'Gollum', 'Gimli', 'Bilbo', 'Legolas', 'Frodo', 'Arwen', 'Aragorn', 'Saruman', 'Faramir', 'Elrond'], ['Gandalf', 'Bilbo', 'Arwen', 'Elrond', 'Faramir', 'Frodo', 'Aragorn', 'Gimli', 'Gollum', 'Legolas'], ['Faramir', 'Arwen', 'Aragorn', 'Gollum'], ['Gollum', 'Frodo', 'Elrond', 'Bilbo', 'Faramir', 'Gimli', 'Arwen', 'Saruman'], ['Arwen', 'Aragorn', 'Faramir', 'Elrond', 'Gandalf', 'Gollum', 'Bilbo', 'Saruman', 'Gimli'], ['Frodo', 'Gollum', 'Arwen', 'Elrond', 'Saruman', 'Gimli', 'Faramir'], ['Saruman', 'Faramir', 'Arwen'], ['Arwen', 'Bilbo', 'Aragorn', 'Gimli', 'Frodo'], ['Gimli', 'Arwen'], ['Faramir', 'Arwen', 'Gollum', 'Elrond'], ['Bilbo', 'Arwen', 'Saruman', 'Frodo'], ['Aragorn', 'Frodo', 'Faramir', 'Gimli', 'Gollum', 'Saruman', 'Gandalf', 'Bilbo', 'Legolas', 'Arwen'], ['Bilbo'], ['Aragorn', 'Gandalf', 'Gimli', 'Frodo', 'Bilbo', 'Arwen', 'Legolas'], ['Arwen', 'Bilbo', 'Legolas', 'Aragorn'], ['Gandalf', 'Elrond', 'Bilbo', 'Arwen', 'Legolas', 'Gimli', 'Gollum', 'Saruman', 'Faramir'], ['Gollum', 'Bilbo', 'Gimli'], ['Saruman', 'Aragorn', 'Gollum', 'Elrond'], ['Aragorn', 'Legolas', 'Arwen'], ['Bilbo', 'Gandalf'], ['Bilbo', 'Gimli', 'Faramir', 'Arwen', 'Aragorn', 'Gandalf', 'Legolas', 'Saruman'], ['Faramir', 'Arwen', 'Gandalf'], ['Saruman', 'Arwen', 'Faramir', 'Elrond', 'Gimli'], ['Aragorn', 'Gandalf', 'Legolas', 'Faramir', 'Frodo', 'Gollum', 'Bilbo', 'Saruman', 'Arwen'], ['Arwen'], ['Elrond'], ['Aragorn', 'Legolas', 'Frodo', 'Faramir', 'Elrond', 'Saruman', 'Arwen', 'Gollum', 'Gimli', 'Bilbo', 'Gandalf'], ['Saruman'], ['Bilbo', 'Gimli', 'Aragorn', 'Legolas', 'Gandalf', 'Gollum', 'Saruman', 'Elrond', 'Faramir', 'Arwen', 'Frodo'], ['Bilbo', 'Gimli', 'Gollum', 'Saruman', 'Arwen', 'Frodo', 'Gandalf', 'Aragorn', 'Legolas', 'Elrond'], ['Aragorn', 'Arwen', 'Gollum', 'Gimli', 'Saruman', 'Faramir', 'Legolas', 'Elrond', 'Frodo'], ['Gollum', 'Arwen', 'Gandalf'], ['Legolas', 'Bilbo', 'Saruman', 'Gollum', 'Aragorn', 'Gimli'], ['Arwen', 'Faramir', 'Frodo', 'Gollum'], ['Elrond', 'Gollum', 'Arwen', 'Bilbo'], ['Gandalf', 'Bilbo', 'Faramir', 'Saruman', 'Aragorn', 'Legolas', 'Gimli', 'Gollum', 'Elrond', 'Frodo'], ['Gimli', 'Arwen', 'Elrond', 'Saruman', 'Gandalf', 'Bilbo', 'Legolas', 'Gollum', 'Frodo'], ['Faramir', 'Arwen'], ['Arwen', 'Frodo', 'Gandalf'], ['Aragorn', 'Elrond', 'Bilbo', 'Gimli', 'Frodo', 'Faramir', 'Gandalf', 'Legolas'], ['Faramir', 'Elrond', 'Arwen', 'Bilbo', 'Aragorn'], ['Gimli', 'Faramir', 'Elrond', 'Gollum', 'Bilbo', 'Arwen', 'Frodo', 'Aragorn', 'Legolas', 'Saruman', 'Gandalf'], ['Legolas', 'Bilbo', 'Arwen', 'Gollum', 'Frodo', 'Aragorn', 'Elrond', 'Saruman'], ['Arwen', 'Aragorn', 'Elrond', 'Gollum'], ['Arwen', 'Legolas', 'Faramir', 'Saruman', 'Aragorn', 'Gimli', 'Gollum', 'Bilbo', 'Gandalf', 'Frodo'], ['Bilbo', 'Elrond', 'Aragorn', 'Arwen', 'Saruman', 'Faramir', 'Gimli', 'Gollum'], ['Frodo', 'Bilbo', 'Arwen', 'Legolas'], ['Frodo', 'Bilbo', 'Gollum'], ['Saruman', 'Gimli', 'Frodo', 'Bilbo'], ['Saruman', 'Gimli', 'Frodo', 'Arwen', 'Legolas', 'Bilbo', 'Gollum', 'Faramir', 'Aragorn', 'Elrond', 'Gandalf'], ['Faramir', 'Legolas'], ['Elrond', 'Faramir', 'Aragorn'], ['Arwen', 'Faramir', 'Bilbo', 'Elrond', 'Gimli', 'Gandalf', 'Legolas', 'Frodo', 'Aragorn'], ['Legolas', 'Gollum', 'Saruman', 'Bilbo'], ['Bilbo', 'Saruman', 'Gandalf', 'Legolas', 'Elrond', 'Frodo'], ['Aragorn', 'Bilbo', 'Gandalf', 'Gimli', 'Gollum', 'Legolas', 'Elrond', 'Arwen', 'Saruman', 'Faramir'], ['Gandalf', 'Gollum', 'Saruman', 'Elrond', 'Arwen', 'Gimli'], ['Gandalf', 'Elrond', 'Saruman', 'Faramir', 'Frodo', 'Bilbo', 'Gimli', 'Legolas', 'Gollum', 'Aragorn', 'Arwen'], ['Faramir', 'Aragorn', 'Saruman', 'Frodo', 'Gollum', 'Bilbo', 'Gandalf'], ['Aragorn', 'Arwen', 'Gimli', 'Legolas', 'Gollum', 'Faramir', 'Elrond', 'Bilbo', 'Frodo', 'Gandalf'], ['Gimli', 'Gollum', 'Frodo', 'Elrond'], ['Arwen', 'Frodo', 'Saruman', 'Elrond', 'Faramir', 'Gimli', 'Gandalf'], ['Legolas', 'Faramir', 'Bilbo', 'Elrond', 'Gandalf', 'Gollum', 'Saruman', 'Frodo'], ['Elrond', 'Saruman'], ['Frodo', 'Elrond', 'Legolas'], ['Gollum', 'Gandalf', 'Saruman', 'Arwen', 'Frodo', 'Aragorn', 'Legolas', 'Bilbo', 'Elrond', 'Faramir', 'Gimli'], ['Frodo', 'Elrond', 'Saruman', 'Arwen', 'Aragorn'], ['Elrond', 'Aragorn', 'Gollum', 'Legolas'], ['Gollum', 'Bilbo'], ['Aragorn', 'Saruman', 'Gimli', 'Legolas'], ['Aragorn', 'Gimli'], ['Faramir', 'Bilbo', 'Gollum', 'Gandalf', 'Saruman', 'Gimli', 'Frodo', 'Aragorn'], ['Elrond', 'Bilbo', 'Gimli', 'Legolas', 'Arwen', 'Faramir', 'Frodo', 'Aragorn', 'Gandalf', 'Gollum', 'Saruman'], ['Gandalf', 'Gimli', 'Legolas', 'Arwen', 'Faramir', 'Aragorn'], ['Saruman', 'Aragorn', 'Bilbo', 'Legolas', 'Frodo', 'Gimli', 'Elrond', 'Faramir', 'Gollum', 'Gandalf'], ['Bilbo'], ['Gimli', 'Elrond', 'Arwen', 'Saruman', 'Bilbo', 'Gollum', 'Gandalf'], ['Aragorn', 'Bilbo', 'Legolas', 'Gollum', 'Gimli', 'Arwen', 'Saruman', 'Gandalf', 'Elrond', 'Frodo'], ['Bilbo', 'Arwen', 'Saruman', 'Aragorn', 'Gollum', 'Gimli', 'Legolas'], ['Legolas', 'Elrond', 'Frodo', 'Saruman', 'Faramir', 'Gollum', 'Gandalf', 'Gimli', 'Aragorn', 'Arwen'], ['Bilbo', 'Saruman', 'Frodo', 'Gimli', 'Gandalf', 'Faramir', 'Legolas'], ['Bilbo', 'Arwen', 'Gandalf', 'Legolas', 'Frodo', 'Gollum', 'Saruman', 'Elrond', 'Faramir'], ['Gandalf', 'Frodo', 'Gollum', 'Arwen', 'Gimli', 'Aragorn'], ['Saruman', 'Aragorn', 'Gimli', 'Legolas', 'Arwen', 'Bilbo', 'Faramir', 'Elrond', 'Gollum'], ['Gimli', 'Aragorn', 'Bilbo', 'Legolas', 'Frodo'], ['Saruman', 'Elrond', 'Legolas', 'Arwen', 'Gandalf', 'Faramir', 'Gollum'], ['Arwen', 'Saruman'], ['Elrond'], ['Arwen', 'Legolas', 'Gandalf', 'Saruman', 'Frodo', 'Elrond', 'Bilbo', 'Aragorn', 'Gollum', 'Gimli', 'Faramir'], ['Bilbo', 'Gollum', 'Faramir', 'Legolas', 'Gimli', 'Gandalf', 'Arwen', 'Elrond'], ['Elrond', 'Arwen'], ['Aragorn', 'Gollum', 'Legolas', 'Frodo', 'Saruman', 'Bilbo', 'Gimli'], ['Elrond', 'Bilbo', 'Saruman', 'Legolas', 'Frodo'], ['Elrond', 'Faramir'], ['Gollum', 'Faramir', 'Legolas', 'Aragorn', 'Gandalf', 'Gimli', 'Bilbo', 'Saruman', 'Frodo', 'Elrond', 'Arwen'], ['Gimli', 'Arwen', 'Bilbo', 'Legolas', 'Faramir', 'Gollum', 'Aragorn'], ['Frodo', 'Legolas', 'Faramir', 'Gollum', 'Gandalf', 'Arwen', 'Gimli'], ['Legolas', 'Gimli', 'Gollum', 'Saruman', 'Bilbo', 'Frodo', 'Aragorn', 'Elrond', 'Faramir', 'Gandalf', 'Arwen'], ['Gandalf', 'Legolas', 'Gimli'], ['Gollum', 'Elrond', 'Frodo'], ['Frodo', 'Gandalf', 'Arwen', 'Faramir'], ['Gollum', 'Elrond'], ['Gandalf', 'Bilbo', 'Frodo', 'Legolas', 'Faramir'], ['Frodo', 'Gollum', 'Bilbo', 'Gimli', 'Gandalf', 'Saruman', 'Legolas'], ['Frodo', 'Gandalf', 'Bilbo', 'Gimli', 'Aragorn', 'Legolas', 'Saruman', 'Elrond', 'Arwen'], ['Faramir', 'Elrond', 'Gollum', 'Frodo', 'Legolas', 'Gimli', 'Arwen', 'Saruman'], ['Faramir', 'Gollum', 'Frodo', 'Legolas', 'Elrond', 'Saruman', 'Gandalf', 'Aragorn', 'Bilbo', 'Gimli', 'Arwen'], ['Elrond', 'Gimli', 'Bilbo', 'Saruman', 'Gandalf'], ['Gimli', 'Gollum', 'Aragorn', 'Gandalf'], ['Elrond', 'Aragorn'], ['Saruman', 'Elrond', 'Gandalf', 'Legolas', 'Gollum', 'Faramir'], ['Gandalf', 'Gollum', 'Gimli', 'Bilbo', 'Faramir', 'Arwen'], ['Saruman', 'Bilbo', 'Arwen'], ['Faramir', 'Arwen', 'Aragorn', 'Gollum', 'Frodo'], ['Elrond', 'Gandalf'], ['Arwen', 'Saruman', 'Gimli'], ['Gimli', 'Frodo', 'Bilbo', 'Gollum', 'Legolas', 'Saruman', 'Elrond', 'Arwen', 'Faramir'], ['Bilbo', 'Elrond', 'Gandalf', 'Aragorn', 'Saruman', 'Gollum', 'Gimli', 'Faramir'], ['Legolas', 'Gollum', 'Frodo', 'Arwen', 'Gimli', 'Aragorn', 'Faramir', 'Elrond', 'Saruman', 'Bilbo'], ['Arwen', 'Gandalf', 'Bilbo', 'Frodo', 'Elrond', 'Aragorn', 'Gimli', 'Legolas', 'Saruman', 'Gollum'], ['Arwen', 'Faramir', 'Gandalf', 'Frodo', 'Elrond', 'Gimli'], ['Elrond', 'Faramir', 'Gimli', 'Aragorn', 'Frodo', 'Gandalf', 'Bilbo', 'Saruman', 'Arwen'], ['Arwen', 'Elrond', 'Gollum'], ['Saruman', 'Arwen', 'Elrond', 'Bilbo'], ['Arwen', 'Frodo', 'Gimli', 'Aragorn', 'Legolas', 'Gandalf', 'Saruman', 'Faramir', 'Bilbo', 'Gollum'], ['Arwen', 'Gollum', 'Bilbo'], ['Frodo', 'Gollum', 'Aragorn', 'Gandalf', 'Gimli'], ['Saruman', 'Faramir', 'Gandalf', 'Frodo', 'Arwen', 'Aragorn', 'Gollum', 'Gimli', 'Bilbo', 'Legolas', 'Elrond'], ['Aragorn', 'Elrond', 'Arwen', 'Frodo', 'Gollum', 'Faramir', 'Gimli', 'Gandalf'], ['Aragorn', 'Frodo', 'Gandalf', 'Gimli', 'Arwen', 'Faramir', 'Bilbo', 'Elrond', 'Legolas'], ['Arwen', 'Faramir', 'Frodo', 'Elrond', 'Aragorn', 'Saruman', 'Legolas', 'Bilbo'], ['Saruman', 'Aragorn', 'Gollum', 'Gimli', 'Frodo', 'Bilbo', 'Elrond'], ['Gandalf', 'Frodo', 'Saruman', 'Faramir', 'Elrond', 'Aragorn', 'Legolas', 'Gollum', 'Arwen'], ['Gimli'], ['Saruman', 'Elrond'], ['Legolas', 'Frodo', 'Saruman'], ['Gimli', 'Arwen', 'Gollum', 'Faramir', 'Saruman', 'Elrond'], ['Gandalf', 'Elrond', 'Gimli', 'Bilbo', 'Gollum', 'Arwen'], ['Gollum', 'Faramir', 'Elrond', 'Aragorn', 'Bilbo', 'Frodo', 'Legolas', 'Gimli', 'Saruman', 'Arwen', 'Gandalf'], ['Aragorn', 'Gandalf', 'Gollum', 'Arwen', 'Legolas', 'Gimli'], ['Elrond', 'Aragorn', 'Gimli', 'Gandalf', 'Bilbo', 'Legolas', 'Frodo', 'Faramir', 'Arwen', 'Saruman'], ['Frodo', 'Elrond', 'Gollum', 'Bilbo', 'Arwen', 'Faramir', 'Saruman'], ['Arwen', 'Gimli', 'Gollum', 'Aragorn', 'Frodo', 'Gandalf'], ['Bilbo', 'Gollum', 'Saruman', 'Legolas', 'Elrond'], ['Elrond', 'Saruman', 'Aragorn', 'Gandalf', 'Gollum', 'Gimli', 'Frodo', 'Faramir', 'Arwen'], ['Frodo', 'Arwen', 'Legolas'], ['Aragorn', 'Gollum', 'Gandalf', 'Arwen', 'Gimli', 'Faramir'], ['Saruman', 'Legolas', 'Aragorn', 'Arwen', 'Gollum', 'Bilbo'], ['Elrond', 'Frodo', 'Gimli', 'Arwen', 'Saruman', 'Gollum', 'Gandalf', 'Faramir', 'Aragorn', 'Legolas', 'Bilbo'], ['Gollum', 'Saruman', 'Legolas', 'Faramir', 'Arwen', 'Aragorn', 'Frodo'], ['Gimli', 'Saruman', 'Arwen', 'Elrond', 'Bilbo', 'Gollum'], ['Aragorn', 'Legolas', 'Elrond', 'Gimli', 'Bilbo', 'Frodo'], ['Arwen', 'Aragorn', 'Saruman', 'Gollum'], ['Gandalf', 'Bilbo', 'Gimli', 'Elrond', 'Aragorn', 'Frodo', 'Gollum', 'Faramir', 'Legolas'], ['Elrond', 'Gandalf'], ['Aragorn', 'Arwen', 'Bilbo', 'Gandalf', 'Legolas', 'Saruman', 'Faramir', 'Gimli'], ['Frodo', 'Aragorn', 'Legolas'], ['Faramir'], ['Frodo', 'Saruman'], ['Aragorn', 'Gollum', 'Frodo', 'Faramir', 'Gimli', 'Bilbo'], ['Gimli', 'Legolas', 'Arwen', 'Bilbo', 'Faramir'], ['Gimli', 'Gollum', 'Legolas', 'Elrond'], ['Gandalf', 'Saruman', 'Legolas', 'Arwen', 'Elrond', 'Aragorn', 'Bilbo', 'Gollum', 'Faramir', 'Frodo'], ['Frodo', 'Saruman', 'Aragorn', 'Faramir', 'Elrond', 'Gimli', 'Arwen', 'Bilbo', 'Gandalf'], ['Legolas', 'Elrond', 'Saruman', 'Gollum', 'Arwen', 'Gandalf', 'Frodo', 'Gimli', 'Bilbo', 'Aragorn'], ['Gandalf', 'Legolas', 'Frodo', 'Arwen', 'Saruman', 'Bilbo', 'Elrond', 'Gimli'], ['Gandalf', 'Elrond', 'Frodo', 'Gimli', 'Aragorn', 'Saruman', 'Legolas'], ['Bilbo', 'Saruman', 'Legolas', 'Gandalf', 'Aragorn', 'Frodo', 'Gimli', 'Elrond', 'Faramir'], ['Saruman', 'Gimli', 'Gandalf', 'Arwen', 'Bilbo'], ['Bilbo', 'Frodo', 'Arwen', 'Gimli', 'Legolas', 'Faramir'], ['Gollum', 'Frodo', 'Gimli', 'Bilbo', 'Faramir', 'Arwen', 'Saruman', 'Elrond'], ['Bilbo', 'Aragorn', 'Frodo', 'Legolas', 'Gandalf', 'Gollum', 'Saruman', 'Arwen', 'Gimli', 'Elrond', 'Faramir'], ['Aragorn', 'Bilbo', 'Elrond', 'Legolas', 'Gimli'], ['Elrond'], ['Bilbo', 'Saruman', 'Frodo'], ['Elrond', 'Gandalf', 'Bilbo'], ['Aragorn'], ['Elrond', 'Bilbo', 'Faramir', 'Saruman', 'Legolas'], ['Saruman'], ['Saruman', 'Frodo', 'Gandalf', 'Legolas'], ['Faramir', 'Frodo', 'Legolas', 'Bilbo', 'Gollum', 'Gimli', 'Elrond'], ['Frodo', 'Legolas', 'Aragorn', 'Saruman', 'Gollum', 'Bilbo'], ['Frodo', 'Saruman', 'Aragorn', 'Gimli', 'Gollum'], ['Aragorn', 'Legolas', 'Gollum', 'Bilbo', 'Saruman'], ['Arwen', 'Faramir', 'Gandalf', 'Legolas', 'Elrond', 'Saruman'], ['Elrond'], ['Gandalf', 'Bilbo', 'Elrond'], ['Bilbo', 'Gollum', 'Frodo'], ['Elrond', 'Saruman', 'Frodo', 'Arwen', 'Gimli', 'Gollum', 'Bilbo'], ['Gandalf', 'Frodo', 'Gimli', 'Elrond', 'Gollum'], ['Gollum', 'Frodo', 'Bilbo', 'Arwen', 'Gimli'], ['Gollum', 'Aragorn'], ['Bilbo', 'Gimli', 'Saruman', 'Aragorn', 'Arwen', 'Elrond', 'Gandalf', 'Faramir', 'Frodo'], ['Gollum', 'Gimli', 'Bilbo'], ['Gandalf', 'Faramir', 'Saruman', 'Aragorn', 'Gimli', 'Gollum'], ['Elrond', 'Gollum', 'Gimli', 'Frodo', 'Legolas', 'Arwen', 'Bilbo', 'Saruman', 'Aragorn'], ['Saruman'], ['Faramir'], ['Legolas', 'Gimli', 'Saruman', 'Gollum', 'Arwen', 'Elrond', 'Frodo', 'Gandalf', 'Faramir'], ['Bilbo', 'Gollum', 'Aragorn', 'Arwen', 'Faramir', 'Legolas', 'Gimli', 'Saruman', 'Gandalf'], ['Elrond'], ['Gimli', 'Arwen', 'Bilbo', 'Saruman', 'Faramir', 'Gollum'], ['Gandalf', 'Arwen', 'Legolas', 'Bilbo', 'Aragorn', 'Gimli'], ['Elrond', 'Aragorn', 'Gollum', 'Legolas', 'Arwen', 'Gimli', 'Bilbo', 'Gandalf'], ['Gimli', 'Elrond'], ['Gimli', 'Arwen', 'Gollum', 'Faramir', 'Elrond', 'Aragorn'], ['Arwen', 'Saruman', 'Legolas', 'Frodo', 'Gollum'], ['Elrond', 'Bilbo', 'Gollum', 'Arwen', 'Legolas', 'Faramir', 'Saruman'], ['Bilbo', 'Frodo', 'Gollum'], ['Frodo', 'Bilbo', 'Elrond', 'Gollum', 'Arwen', 'Saruman', 'Legolas'], ['Frodo', 'Faramir'], ['Gimli', 'Bilbo', 'Faramir', 'Gandalf', 'Legolas', 'Elrond', 'Arwen'], ['Faramir', 'Aragorn', 'Elrond', 'Legolas', 'Arwen', 'Gandalf', 'Frodo', 'Bilbo', 'Gimli', 'Saruman', 'Gollum'], ['Faramir', 'Legolas', 'Saruman', 'Aragorn', 'Elrond', 'Gimli', 'Frodo', 'Gandalf', 'Arwen', 'Gollum', 'Bilbo'], ['Aragorn', 'Legolas', 'Saruman', 'Faramir', 'Elrond', 'Gandalf', 'Bilbo', 'Gollum', 'Frodo'], ['Gimli', 'Gollum', 'Arwen', 'Gandalf', 'Bilbo', 'Aragorn', 'Faramir'], ['Frodo', 'Legolas'], ['Legolas', 'Gollum', 'Frodo', 'Gandalf', 'Aragorn', 'Elrond', 'Arwen', 'Gimli', 'Faramir', 'Bilbo', 'Saruman'], ['Bilbo', 'Legolas', 'Gollum', 'Elrond', 'Gimli', 'Gandalf', 'Frodo', 'Aragorn', 'Saruman', 'Faramir'], ['Legolas', 'Gimli', 'Bilbo', 'Faramir', 'Gandalf', 'Arwen', 'Elrond', 'Gollum', 'Frodo', 'Aragorn'], ['Faramir'], ['Saruman', 'Legolas', 'Aragorn', 'Faramir', 'Frodo', 'Bilbo', 'Arwen', 'Gollum', 'Gimli', 'Elrond', 'Gandalf'], ['Saruman', 'Elrond', 'Legolas', 'Faramir', 'Gimli', 'Bilbo'], ['Gandalf', 'Elrond', 'Gollum', 'Aragorn', 'Faramir', 'Arwen', 'Gimli'], ['Bilbo', 'Gandalf', 'Legolas', 'Aragorn', 'Faramir', 'Frodo', 'Saruman', 'Gimli', 'Elrond', 'Gollum'], ['Gollum', 'Bilbo', 'Gandalf', 'Faramir', 'Legolas', 'Aragorn', 'Gimli', 'Frodo', 'Arwen', 'Elrond', 'Saruman'], ['Bilbo', 'Aragorn', 'Legolas'], ['Frodo', 'Bilbo', 'Legolas', 'Saruman', 'Gollum', 'Arwen', 'Aragorn', 'Gandalf', 'Gimli'], ['Frodo', 'Aragorn', 'Saruman', 'Legolas', 'Gollum', 'Gimli', 'Elrond', 'Faramir', 'Bilbo'], ['Bilbo', 'Legolas', 'Gollum'], ['Frodo', 'Gimli', 'Elrond'], ['Frodo'], ['Gimli', 'Elrond'], ['Saruman', 'Gollum', 'Bilbo'], ['Saruman', 'Arwen', 'Legolas', 'Gandalf', 'Gimli', 'Bilbo'], ['Elrond', 'Frodo', 'Bilbo', 'Gandalf', 'Faramir', 'Gimli', 'Saruman', 'Aragorn', 'Gollum', 'Legolas'], ['Arwen', 'Gandalf', 'Faramir', 'Legolas', 'Elrond', 'Aragorn', 'Gimli', 'Saruman', 'Frodo'], ['Gollum', 'Gandalf'], ['Arwen', 'Legolas'], ['Arwen', 'Elrond', 'Faramir', 'Gimli', 'Frodo'], ['Elrond', 'Gandalf', 'Arwen', 'Frodo', 'Bilbo', 'Saruman', 'Aragorn', 'Legolas', 'Gollum', 'Gimli', 'Faramir'], ['Gollum', 'Elrond', 'Arwen', 'Bilbo', 'Aragorn'], ['Elrond', 'Gimli', 'Faramir', 'Frodo', 'Bilbo', 'Gollum'], ['Gandalf', 'Elrond', 'Frodo'], ['Gandalf', 'Gimli', 'Bilbo', 'Arwen'], ['Gollum'], ['Gollum', 'Frodo', 'Legolas'], ['Legolas'], ['Gimli', 'Elrond', 'Frodo', 'Aragorn', 'Faramir', 'Saruman', 'Arwen', 'Legolas', 'Gandalf', 'Gollum'], ['Faramir', 'Arwen', 'Gandalf', 'Aragorn', 'Frodo', 'Gollum'], ['Legolas', 'Arwen', 'Elrond', 'Aragorn', 'Frodo', 'Saruman', 'Gandalf'], ['Saruman', 'Bilbo', 'Gollum', 'Aragorn', 'Legolas', 'Frodo', 'Elrond', 'Gimli', 'Faramir', 'Gandalf', 'Arwen'], ['Saruman', 'Faramir', 'Gollum', 'Bilbo', 'Aragorn', 'Arwen'], ['Gimli', 'Elrond', 'Aragorn', 'Gandalf'], ['Legolas', 'Frodo', 'Arwen', 'Saruman', 'Aragorn', 'Faramir', 'Gandalf', 'Bilbo', 'Gollum', 'Elrond', 'Gimli'], ['Arwen', 'Gollum', 'Frodo'], ['Saruman', 'Gollum'], ['Frodo', 'Gollum', 'Arwen', 'Bilbo', 'Gimli', 'Legolas', 'Saruman'], ['Aragorn', 'Faramir'], ['Bilbo', 'Saruman', 'Frodo', 'Arwen', 'Aragorn', 'Gollum', 'Faramir', 'Elrond'], ['Gimli', 'Bilbo', 'Gollum', 'Frodo', 'Arwen', 'Legolas', 'Elrond', 'Saruman', 'Gandalf'], ['Arwen', 'Faramir', 'Saruman', 'Aragorn', 'Gandalf', 'Gollum', 'Frodo', 'Elrond'], ['Legolas', 'Faramir', 'Gimli', 'Aragorn', 'Arwen'], ['Legolas', 'Saruman', 'Gandalf', 'Gollum', 'Gimli', 'Bilbo', 'Arwen', 'Elrond', 'Aragorn', 'Faramir'], ['Elrond', 'Gimli', 'Frodo', 'Arwen', 'Saruman', 'Bilbo'], ['Faramir'], ['Legolas', 'Bilbo', 'Gandalf', 'Elrond', 'Gollum', 'Arwen', 'Frodo'], ['Elrond', 'Arwen', 'Frodo', 'Aragorn', 'Faramir', 'Saruman', 'Gollum'], ['Frodo', 'Arwen', 'Gollum', 'Legolas', 'Elrond', 'Bilbo', 'Aragorn', 'Gandalf', 'Faramir', 'Gimli'], ['Gimli'], ['Faramir', 'Gandalf', 'Frodo'], ['Saruman', 'Gimli', 'Faramir', 'Bilbo', 'Frodo', 'Gollum', 'Aragorn', 'Legolas', 'Arwen'], ['Aragorn', 'Frodo', 'Elrond', 'Arwen', 'Gimli', 'Legolas', 'Saruman', 'Gandalf', 'Gollum', 'Bilbo', 'Faramir'], ['Faramir', 'Gollum', 'Aragorn', 'Arwen', 'Bilbo', 'Gandalf', 'Legolas'], ['Bilbo'], ['Gandalf', 'Faramir', 'Saruman', 'Arwen', 'Elrond', 'Bilbo', 'Aragorn', 'Frodo', 'Legolas', 'Gollum'], ['Gollum'], ['Bilbo', 'Faramir', 'Arwen', 'Frodo', 'Saruman', 'Aragorn', 'Gollum', 'Elrond', 'Legolas', 'Gimli'], ['Gimli', 'Faramir', 'Elrond', 'Gandalf', 'Frodo', 'Saruman', 'Bilbo', 'Aragorn', 'Arwen', 'Gollum', 'Legolas'], ['Frodo', 'Gandalf', 'Gollum', 'Faramir', 'Bilbo', 'Gimli', 'Aragorn', 'Legolas', 'Elrond', 'Arwen', 'Saruman'], ['Gollum', 'Frodo', 'Saruman', 'Gimli', 'Elrond', 'Arwen', 'Legolas', 'Bilbo', 'Gandalf', 'Aragorn'], ['Gandalf', 'Bilbo', 'Saruman', 'Faramir', 'Elrond', 'Gollum', 'Gimli'], ['Gandalf', 'Gimli'], ['Saruman', 'Legolas', 'Bilbo'], ['Faramir', 'Saruman'], ['Gimli', 'Saruman', 'Arwen', 'Faramir', 'Frodo', 'Aragorn'], ['Frodo', 'Saruman', 'Aragorn', 'Faramir'], ['Arwen', 'Frodo'], ['Frodo', 'Gandalf', 'Saruman', 'Legolas', 'Aragorn', 'Arwen', 'Gimli'], ['Aragorn', 'Arwen', 'Bilbo', 'Elrond', 'Legolas', 'Gandalf', 'Saruman', 'Frodo', 'Gimli', 'Gollum'], ['Frodo', 'Elrond', 'Gollum', 'Gandalf', 'Legolas'], ['Bilbo', 'Arwen', 'Saruman', 'Gollum', 'Aragorn', 'Gimli', 'Frodo', 'Faramir', 'Gandalf', 'Legolas'], ['Aragorn', 'Arwen', 'Faramir', 'Gandalf', 'Legolas', 'Frodo', 'Gollum', 'Elrond', 'Saruman'], ['Arwen', 'Legolas', 'Frodo', 'Saruman', 'Faramir', 'Elrond', 'Aragorn', 'Gimli', 'Gandalf'], ['Faramir', 'Gandalf', 'Saruman', 'Elrond', 'Gollum', 'Frodo'], ['Arwen', 'Frodo', 'Gollum', 'Saruman', 'Aragorn', 'Gimli', 'Gandalf', 'Legolas', 'Faramir', 'Elrond'], ['Bilbo', 'Gollum', 'Gimli', 'Faramir', 'Legolas', 'Aragorn', 'Frodo'], ['Gandalf', 'Elrond', 'Frodo', 'Gimli'], ['Bilbo', 'Frodo', 'Arwen', 'Gimli', 'Elrond', 'Saruman', 'Gollum', 'Legolas', 'Faramir', 'Aragorn'], ['Frodo', 'Legolas'], ['Gandalf', 'Faramir', 'Saruman', 'Arwen', 'Gollum', 'Gimli', 'Aragorn'], ['Aragorn', 'Gandalf', 'Frodo', 'Legolas', 'Gollum', 'Bilbo', 'Arwen', 'Gimli', 'Faramir', 'Elrond', 'Saruman'], ['Frodo', 'Aragorn', 'Legolas', 'Elrond', 'Bilbo'], ['Aragorn', 'Legolas', 'Saruman', 'Faramir'], ['Bilbo', 'Gollum', 'Saruman', 'Legolas', 'Faramir', 'Aragorn', 'Gandalf', 'Frodo'], ['Gandalf', 'Gimli', 'Faramir', 'Aragorn'], ['Aragorn', 'Gollum', 'Legolas', 'Bilbo'], ['Gollum', 'Bilbo', 'Saruman'], ['Gandalf', 'Arwen', 'Elrond', 'Saruman', 'Frodo', 'Aragorn', 'Bilbo', 'Gollum', 'Legolas'], ['Elrond', 'Gollum', 'Bilbo', 'Arwen', 'Gandalf'], ['Saruman', 'Gollum'], ['Frodo', 'Elrond', 'Gandalf', 'Faramir', 'Gollum', 'Arwen'], ['Bilbo', 'Gollum', 'Frodo', 'Saruman', 'Legolas', 'Gandalf', 'Aragorn'], ['Gollum', 'Faramir', 'Aragorn', 'Legolas'], ['Gimli', 'Faramir', 'Aragorn', 'Bilbo', 'Frodo', 'Saruman'], ['Saruman', 'Frodo', 'Legolas', 'Gandalf', 'Bilbo', 'Gimli', 'Arwen', 'Gollum'], ['Legolas', 'Gimli', 'Aragorn', 'Bilbo', 'Arwen', 'Gollum'], ['Bilbo', 'Aragorn', 'Legolas', 'Gandalf', 'Elrond', 'Faramir', 'Gollum', 'Arwen', 'Saruman', 'Frodo', 'Gimli'], ['Frodo', 'Faramir', 'Aragorn', 'Arwen', 'Gandalf', 'Saruman', 'Legolas', 'Gollum', 'Elrond'], ['Bilbo', 'Elrond', 'Frodo'], ['Frodo', 'Gimli', 'Bilbo', 'Saruman', 'Faramir', 'Arwen', 'Aragorn', 'Legolas', 'Elrond'], ['Gandalf', 'Gimli', 'Gollum', 'Legolas', 'Faramir', 'Saruman', 'Elrond', 'Frodo'], ['Bilbo', 'Legolas', 'Elrond', 'Gandalf'], ['Elrond', 'Frodo', 'Legolas', 'Aragorn'], ['Arwen', 'Legolas', 'Gandalf', 'Gimli', 'Aragorn', 'Gollum', 'Bilbo'], ['Bilbo'], ['Faramir', 'Saruman'], ['Arwen', 'Legolas', 'Aragorn', 'Bilbo', 'Gandalf', 'Frodo', 'Faramir', 'Saruman', 'Elrond', 'Gimli', 'Gollum'], ['Legolas', 'Faramir'], ['Faramir', 'Bilbo', 'Frodo', 'Aragorn', 'Gollum', 'Legolas', 'Elrond', 'Saruman'], ['Gollum', 'Faramir'], ['Elrond', 'Arwen', 'Gandalf', 'Faramir', 'Frodo', 'Gollum', 'Aragorn', 'Legolas', 'Bilbo'], ['Saruman', 'Bilbo'], ['Elrond', 'Arwen', 'Saruman', 'Bilbo', 'Faramir', 'Legolas', 'Gimli'], ['Elrond', 'Faramir', 'Legolas', 'Frodo'], ['Gimli', 'Gandalf', 'Saruman', 'Bilbo', 'Gollum'], ['Elrond', 'Legolas', 'Aragorn', 'Faramir', 'Bilbo', 'Saruman', 'Gollum', 'Gandalf', 'Gimli', 'Arwen'], ['Legolas', 'Faramir', 'Gandalf'], ['Saruman', 'Frodo'], ['Aragorn', 'Saruman', 'Gollum', 'Legolas'], ['Saruman', 'Faramir', 'Aragorn', 'Frodo', 'Gollum'], ['Elrond', 'Frodo', 'Legolas', 'Aragorn', 'Gollum'], ['Frodo', 'Bilbo', 'Legolas'], ['Aragorn', 'Gollum', 'Elrond', 'Frodo', 'Gandalf', 'Faramir'], ['Aragorn', 'Faramir', 'Arwen', 'Frodo', 'Gimli', 'Saruman', 'Gandalf', 'Gollum', 'Elrond', 'Bilbo', 'Legolas'], ['Faramir', 'Bilbo', 'Legolas', 'Frodo', 'Gollum'], ['Faramir', 'Gandalf', 'Arwen', 'Bilbo', 'Gollum', 'Frodo', 'Legolas', 'Aragorn', 'Gimli', 'Elrond', 'Saruman'], ['Gollum', 'Bilbo', 'Saruman', 'Elrond', 'Arwen'], ['Saruman', 'Frodo', 'Gandalf', 'Legolas', 'Gollum', 'Elrond', 'Arwen', 'Gimli', 'Bilbo', 'Aragorn'], ['Elrond', 'Frodo', 'Aragorn', 'Faramir', 'Gandalf', 'Arwen', 'Legolas', 'Bilbo', 'Gollum', 'Saruman'], ['Bilbo', 'Legolas'], ['Arwen', 'Saruman', 'Elrond', 'Gollum', 'Faramir', 'Frodo', 'Gandalf', 'Aragorn', 'Bilbo'], ['Arwen', 'Gollum', 'Aragorn', 'Elrond', 'Legolas', 'Saruman', 'Gimli', 'Faramir'], ['Faramir', 'Gimli'], ['Aragorn', 'Frodo', 'Arwen', 'Elrond'], ['Frodo', 'Faramir', 'Arwen', 'Bilbo', 'Gimli', 'Gandalf', 'Saruman', 'Gollum'], ['Gollum', 'Legolas', 'Gimli', 'Saruman'], ['Gimli', 'Faramir', 'Elrond', 'Bilbo', 'Saruman', 'Frodo', 'Legolas', 'Aragorn', 'Gandalf', 'Arwen'], ['Legolas', 'Aragorn', 'Gandalf', 'Frodo', 'Bilbo', 'Arwen', 'Elrond', 'Gollum', 'Saruman', 'Faramir'], ['Gollum'], ['Frodo', 'Gandalf', 'Legolas', 'Gollum', 'Arwen', 'Faramir', 'Elrond', 'Bilbo', 'Aragorn', 'Gimli', 'Saruman'], ['Aragorn', 'Gandalf', 'Saruman', 'Frodo', 'Faramir', 'Legolas', 'Bilbo', 'Gimli', 'Arwen', 'Gollum'], ['Aragorn', 'Legolas', 'Bilbo', 'Faramir', 'Gollum', 'Frodo', 'Elrond'], ['Gollum', 'Aragorn', 'Elrond', 'Saruman', 'Gandalf', 'Faramir', 'Legolas'], ['Frodo', 'Arwen', 'Elrond'], ['Aragorn', 'Gandalf'], ['Frodo', 'Faramir', 'Gollum', 'Legolas', 'Gimli', 'Saruman', 'Arwen', 'Elrond', 'Bilbo', 'Aragorn'], ['Faramir', 'Legolas', 'Frodo', 'Gandalf', 'Bilbo', 'Aragorn', 'Saruman', 'Arwen', 'Elrond'], ['Aragorn', 'Arwen', 'Saruman', 'Faramir', 'Gollum', 'Frodo', 'Bilbo', 'Gimli', 'Legolas'], ['Gandalf', 'Aragorn', 'Faramir', 'Elrond', 'Gollum', 'Legolas'], ['Gollum', 'Frodo', 'Saruman', 'Elrond', 'Bilbo'], ['Bilbo', 'Faramir', 'Gimli', 'Saruman', 'Gollum', 'Gandalf'], ['Elrond', 'Arwen', 'Aragorn', 'Faramir', 'Frodo', 'Gollum', 'Gandalf', 'Gimli', 'Saruman'], ['Gandalf', 'Gollum', 'Faramir', 'Arwen', 'Aragorn', 'Bilbo', 'Legolas', 'Frodo', 'Gimli', 'Elrond', 'Saruman'], ['Bilbo', 'Arwen', 'Gimli', 'Legolas', 'Gollum'], ['Gollum'], ['Bilbo', 'Faramir', 'Saruman', 'Aragorn', 'Elrond'], ['Faramir'], ['Aragorn', 'Arwen', 'Legolas', 'Elrond', 'Faramir'], ['Gollum', 'Saruman', 'Gimli', 'Faramir', 'Aragorn', 'Bilbo', 'Legolas', 'Arwen', 'Gandalf', 'Elrond'], ['Aragorn', 'Legolas', 'Elrond', 'Gandalf', 'Frodo', 'Arwen', 'Saruman', 'Bilbo'], ['Frodo', 'Elrond', 'Saruman'], ['Gimli', 'Aragorn', 'Faramir', 'Frodo', 'Arwen', 'Saruman', 'Legolas', 'Elrond', 'Gandalf', 'Bilbo', 'Gollum'], ['Gandalf', 'Bilbo', 'Gimli', 'Aragorn', 'Arwen', 'Legolas', 'Gollum', 'Faramir', 'Saruman', 'Elrond'], ['Frodo', 'Legolas', 'Faramir', 'Arwen', 'Aragorn', 'Saruman', 'Elrond'], ['Gollum', 'Frodo', 'Gimli', 'Elrond', 'Faramir', 'Bilbo', 'Arwen', 'Aragorn', 'Legolas'], ['Faramir', 'Elrond', 'Legolas', 'Aragorn'], ['Aragorn', 'Gollum', 'Gandalf', 'Saruman', 'Arwen', 'Gimli', 'Frodo', 'Elrond'], ['Arwen', 'Gollum', 'Aragorn', 'Gimli', 'Bilbo', 'Gandalf', 'Saruman', 'Legolas'], ['Legolas', 'Bilbo', 'Frodo', 'Arwen', 'Elrond', 'Gandalf', 'Faramir', 'Gimli', 'Gollum', 'Aragorn'], ['Gimli', 'Frodo', 'Legolas', 'Gandalf', 'Arwen', 'Saruman', 'Bilbo', 'Gollum', 'Faramir', 'Aragorn', 'Elrond'], ['Gimli', 'Gollum', 'Legolas', 'Faramir', 'Elrond', 'Aragorn', 'Saruman', 'Bilbo', 'Frodo', 'Gandalf', 'Arwen'], ['Gollum', 'Gimli', 'Arwen', 'Elrond', 'Bilbo'], ['Gandalf', 'Frodo', 'Elrond', 'Gollum', 'Aragorn', 'Saruman', 'Arwen', 'Bilbo', 'Legolas', 'Faramir', 'Gimli'], ['Aragorn', 'Gollum', 'Elrond', 'Saruman', 'Legolas'], ['Bilbo', 'Gimli', 'Aragorn', 'Gollum', 'Saruman', 'Gandalf', 'Faramir'], ['Aragorn', 'Bilbo', 'Elrond', 'Frodo', 'Gandalf', 'Legolas', 'Faramir', 'Arwen', 'Gimli'], ['Legolas', 'Bilbo', 'Gimli', 'Elrond', 'Frodo', 'Arwen', 'Gandalf', 'Saruman', 'Gollum', 'Aragorn'], ['Bilbo', 'Faramir', 'Gollum'], ['Bilbo', 'Gollum', 'Arwen', 'Aragorn'], ['Legolas', 'Elrond', 'Saruman', 'Gimli', 'Arwen', 'Frodo', 'Gollum', 'Gandalf', 'Aragorn', 'Faramir', 'Bilbo'], ['Elrond', 'Faramir', 'Aragorn', 'Gollum', 'Frodo', 'Gandalf', 'Arwen'], ['Aragorn', 'Gimli', 'Frodo'], ['Bilbo', 'Frodo', 'Arwen', 'Aragorn', 'Legolas', 'Elrond', 'Gollum', 'Gimli'], ['Bilbo'], ['Saruman'], ['Aragorn', 'Elrond', 'Faramir', 'Gimli', 'Arwen', 'Gollum', 'Saruman', 'Legolas', 'Gandalf'], ['Frodo', 'Gollum', 'Arwen'], ['Gollum', 'Saruman', 'Faramir', 'Aragorn', 'Legolas'], ['Arwen', 'Bilbo', 'Frodo', 'Legolas', 'Gollum', 'Gandalf', 'Elrond', 'Faramir', 'Aragorn', 'Saruman'], ['Bilbo', 'Gandalf', 'Arwen', 'Gimli', 'Faramir', 'Legolas', 'Frodo', 'Aragorn'], ['Gimli', 'Saruman', 'Aragorn', 'Arwen', 'Gollum', 'Gandalf', 'Frodo'], ['Gimli', 'Legolas', 'Arwen', 'Frodo', 'Gollum'], ['Elrond', 'Frodo', 'Arwen', 'Gollum', 'Aragorn', 'Saruman', 'Legolas', 'Gimli', 'Bilbo', 'Gandalf'], ['Gimli', 'Aragorn', 'Arwen', 'Legolas'], ['Arwen', 'Bilbo', 'Saruman'], ['Aragorn', 'Bilbo', 'Gollum', 'Elrond'], ['Frodo'], ['Legolas', 'Frodo', 'Gandalf'], ['Gollum', 'Gimli', 'Arwen', 'Legolas', 'Bilbo', 'Saruman', 'Gandalf'], ['Bilbo', 'Gandalf', 'Legolas', 'Arwen', 'Frodo', 'Aragorn'], ['Gollum', 'Elrond', 'Gimli', 'Bilbo', 'Aragorn'], ['Bilbo', 'Gandalf', 'Arwen', 'Elrond', 'Aragorn', 'Saruman'], ['Saruman', 'Gollum', 'Gandalf', 'Faramir', 'Frodo', 'Elrond'], ['Elrond', 'Saruman', 'Bilbo', 'Aragorn', 'Gollum', 'Legolas'], ['Gollum', 'Legolas', 'Elrond', 'Frodo', 'Arwen', 'Saruman', 'Aragorn', 'Gandalf', 'Faramir', 'Bilbo', 'Gimli'], ['Gandalf', 'Aragorn', 'Arwen', 'Elrond', 'Legolas', 'Gimli'], ['Faramir', 'Aragorn', 'Frodo', 'Gollum', 'Gimli', 'Elrond'], ['Gandalf', 'Legolas', 'Frodo'], ['Legolas', 'Saruman', 'Gandalf'], ['Gimli', 'Aragorn', 'Saruman', 'Elrond', 'Legolas', 'Gollum', 'Gandalf', 'Frodo', 'Faramir', 'Arwen'], ['Aragorn', 'Arwen', 'Gandalf', 'Elrond', 'Legolas'], ['Gollum', 'Arwen'], ['Gimli', 'Arwen', 'Gandalf', 'Aragorn', 'Saruman', 'Frodo'], ['Gimli', 'Elrond', 'Saruman', 'Aragorn', 'Frodo', 'Bilbo', 'Gandalf', 'Faramir', 'Arwen', 'Gollum'], ['Gimli', 'Legolas', 'Gollum', 'Arwen', 'Bilbo', 'Faramir', 'Gandalf'], ['Gandalf', 'Aragorn'], ['Aragorn', 'Gandalf', 'Arwen', 'Gimli', 'Saruman', 'Frodo', 'Bilbo', 'Legolas', 'Gollum', 'Elrond', 'Faramir'], ['Legolas'], ['Aragorn', 'Saruman', 'Bilbo', 'Gollum', 'Gandalf', 'Legolas', 'Elrond', 'Frodo', 'Gimli', 'Faramir', 'Arwen'], ['Faramir', 'Saruman'], ['Gollum', 'Aragorn', 'Arwen', 'Saruman', 'Frodo', 'Legolas', 'Faramir', 'Gimli', 'Gandalf'], ['Saruman', 'Gollum', 'Frodo', 'Aragorn', 'Elrond', 'Bilbo', 'Gimli', 'Arwen'], ['Aragorn', 'Gollum', 'Gandalf', 'Legolas', 'Arwen', 'Saruman', 'Bilbo', 'Faramir', 'Gimli'], ['Arwen', 'Aragorn', 'Legolas', 'Faramir'], ['Frodo', 'Legolas', 'Faramir', 'Saruman', 'Elrond', 'Bilbo', 'Gandalf', 'Gimli', 'Aragorn'], ['Gollum', 'Saruman', 'Gimli', 'Gandalf', 'Frodo', 'Aragorn'], ['Gimli', 'Elrond', 'Legolas', 'Gandalf', 'Saruman', 'Bilbo', 'Frodo', 'Arwen'], ['Saruman', 'Arwen', 'Elrond', 'Aragorn'], ['Arwen', 'Faramir', 'Aragorn', 'Gandalf', 'Gollum', 'Gimli', 'Frodo', 'Legolas', 'Saruman', 'Elrond', 'Bilbo'], ['Arwen', 'Gimli', 'Gollum', 'Gandalf', 'Faramir', 'Elrond'], ['Gollum', 'Gandalf', 'Elrond', 'Saruman', 'Legolas', 'Faramir', 'Bilbo', 'Frodo', 'Aragorn'], ['Legolas', 'Gimli', 'Bilbo', 'Frodo', 'Arwen', 'Saruman'], ['Aragorn', 'Arwen', 'Bilbo', 'Elrond'], ['Saruman', 'Gimli', 'Arwen'], ['Gollum', 'Legolas', 'Gandalf', 'Gimli', 'Aragorn', 'Frodo', 'Saruman', 'Arwen'], ['Legolas', 'Saruman', 'Frodo', 'Aragorn', 'Faramir', 'Gollum', 'Elrond'], ['Legolas', 'Frodo', 'Saruman'], ['Bilbo', 'Saruman', 'Aragorn'], ['Gimli', 'Legolas', 'Bilbo'], ['Faramir', 'Gollum', 'Gandalf'], ['Faramir', 'Gollum', 'Frodo', 'Elrond', 'Arwen', 'Bilbo', 'Gandalf', 'Gimli'], ['Legolas'], ['Faramir', 'Gandalf', 'Gimli', 'Frodo', 'Gollum'], ['Saruman', 'Bilbo', 'Faramir', 'Aragorn', 'Frodo'], ['Arwen', 'Gimli', 'Gandalf', 'Saruman', 'Legolas'], ['Aragorn', 'Gollum', 'Arwen', 'Bilbo', 'Elrond', 'Gimli'], ['Aragorn', 'Faramir', 'Saruman', 'Elrond', 'Frodo', 'Gollum', 'Arwen', 'Bilbo', 'Gimli', 'Legolas', 'Gandalf'], ['Frodo', 'Gollum', 'Faramir'], ['Aragorn', 'Frodo', 'Legolas', 'Gollum', 'Bilbo', 'Elrond'], ['Legolas', 'Arwen', 'Frodo', 'Gandalf', 'Elrond', 'Gollum', 'Aragorn', 'Saruman'], ['Elrond', 'Saruman', 'Gandalf', 'Aragorn', 'Frodo', 'Gimli'], ['Aragorn', 'Frodo', 'Gimli', 'Legolas', 'Elrond', 'Bilbo', 'Gandalf', 'Saruman'], ['Gandalf', 'Bilbo', 'Legolas', 'Elrond', 'Aragorn', 'Frodo', 'Saruman'], ['Faramir', 'Legolas', 'Saruman', 'Bilbo'], ['Frodo', 'Saruman', 'Gollum', 'Gimli', 'Legolas', 'Bilbo', 'Aragorn', 'Elrond'], ['Gollum', 'Frodo', 'Gandalf', 'Gimli', 'Arwen', 'Bilbo', 'Elrond', 'Aragorn'], ['Elrond', 'Frodo', 'Gimli', 'Saruman', 'Arwen', 'Faramir'], ['Arwen', 'Frodo', 'Gollum'], ['Saruman', 'Legolas', 'Arwen', 'Aragorn', 'Gollum', 'Frodo', 'Elrond'], ['Gollum', 'Arwen', 'Frodo', 'Faramir'], ['Elrond', 'Gimli'], ['Aragorn'], ['Arwen', 'Faramir', 'Gollum', 'Legolas'], ['Aragorn', 'Legolas', 'Frodo', 'Gandalf', 'Arwen', 'Bilbo'], ['Gimli', 'Faramir', 'Saruman', 'Gandalf'], ['Faramir', 'Bilbo', 'Aragorn', 'Saruman', 'Legolas', 'Gimli', 'Frodo', 'Gandalf', 'Elrond', 'Arwen', 'Gollum'], ['Aragorn', 'Arwen'], ['Arwen', 'Gandalf', 'Saruman', 'Gollum', 'Gimli', 'Legolas', 'Elrond'], ['Arwen', 'Faramir', 'Gandalf', 'Gimli'], ['Saruman', 'Bilbo', 'Gandalf', 'Gimli', 'Frodo', 'Faramir', 'Arwen', 'Elrond', 'Gollum'], ['Gollum', 'Frodo', 'Gandalf', 'Arwen'], ['Aragorn', 'Legolas', 'Frodo', 'Bilbo', 'Gollum', 'Gimli', 'Arwen', 'Faramir', 'Elrond'], ['Faramir', 'Legolas', 'Elrond', 'Gandalf', 'Arwen', 'Gollum', 'Aragorn'], ['Legolas'], ['Bilbo', 'Legolas', 'Faramir', 'Gandalf', 'Gimli', 'Aragorn', 'Elrond', 'Saruman'], ['Legolas', 'Saruman', 'Frodo', 'Gollum', 'Gimli', 'Arwen', 'Elrond', 'Faramir', 'Aragorn'], ['Legolas', 'Elrond', 'Gollum', 'Aragorn', 'Arwen', 'Frodo'], ['Gimli', 'Bilbo'], ['Aragorn'], ['Saruman', 'Gimli', 'Gollum', 'Legolas', 'Elrond', 'Arwen', 'Bilbo', 'Aragorn'], ['Bilbo', 'Legolas', 'Faramir'], ['Gimli', 'Arwen', 'Gollum'], ['Faramir', 'Arwen'], ['Arwen', 'Gimli', 'Gollum', 'Gandalf', 'Saruman', 'Faramir', 'Bilbo', 'Legolas', 'Frodo'], ['Gandalf', 'Saruman', 'Bilbo', 'Elrond', 'Gimli', 'Faramir', 'Gollum', 'Arwen', 'Aragorn'], ['Arwen', 'Gimli', 'Gandalf', 'Bilbo'], ['Legolas', 'Frodo', 'Arwen', 'Faramir', 'Bilbo', 'Gandalf'], ['Aragorn', 'Bilbo', 'Saruman', 'Gandalf', 'Gollum', 'Legolas', 'Gimli', 'Arwen', 'Faramir'], ['Legolas', 'Gimli', 'Frodo'], ['Elrond', 'Arwen', 'Gollum', 'Gandalf', 'Legolas', 'Bilbo', 'Frodo'], ['Gollum', 'Aragorn', 'Arwen', 'Gandalf', 'Legolas', 'Faramir', 'Elrond', 'Bilbo', 'Saruman', 'Frodo'], ['Bilbo', 'Gandalf', 'Elrond', 'Saruman', 'Faramir', 'Legolas', 'Gollum', 'Gimli'], ['Gimli', 'Elrond', 'Frodo', 'Gandalf', 'Legolas'], ['Bilbo', 'Arwen', 'Elrond', 'Frodo', 'Aragorn', 'Gandalf', 'Saruman', 'Faramir', 'Legolas', 'Gollum', 'Gimli'], ['Aragorn', 'Arwen', 'Legolas', 'Bilbo', 'Gandalf', 'Gimli'], ['Faramir', 'Bilbo', 'Gimli', 'Gollum', 'Legolas', 'Arwen', 'Elrond', 'Saruman', 'Aragorn', 'Gandalf', 'Frodo'], ['Faramir', 'Legolas', 'Bilbo', 'Gollum', 'Aragorn', 'Saruman', 'Gimli', 'Gandalf', 'Elrond', 'Frodo'], ['Faramir', 'Gollum', 'Elrond', 'Gandalf', 'Frodo', 'Arwen'], ['Bilbo', 'Legolas', 'Gimli'], ['Frodo', 'Bilbo', 'Faramir', 'Gandalf', 'Gollum', 'Elrond', 'Gimli', 'Arwen', 'Saruman', 'Aragorn', 'Legolas'], ['Gollum', 'Bilbo', 'Gimli', 'Gandalf', 'Faramir', 'Aragorn', 'Saruman', 'Elrond', 'Frodo', 'Arwen', 'Legolas'], ['Saruman'], ['Elrond', 'Legolas', 'Arwen', 'Faramir', 'Saruman', 'Gollum', 'Gimli'], ['Gollum', 'Gandalf', 'Aragorn', 'Gimli'], ['Gollum', 'Aragorn', 'Saruman', 'Arwen', 'Legolas', 'Gimli'], ['Saruman', 'Gimli', 'Legolas'], ['Frodo', 'Gimli', 'Gandalf', 'Legolas', 'Elrond'], ['Legolas', 'Gimli', 'Saruman', 'Elrond', 'Gollum', 'Aragorn'], ['Gimli', 'Bilbo', 'Saruman', 'Aragorn', 'Gandalf', 'Legolas', 'Gollum'], ['Frodo'], ['Gollum', 'Aragorn', 'Elrond'], ['Gandalf', 'Legolas', 'Arwen', 'Bilbo', 'Saruman', 'Frodo', 'Aragorn', 'Gollum', 'Gimli', 'Elrond', 'Faramir'], ['Saruman', 'Gandalf', 'Faramir'], ['Arwen', 'Elrond'], ['Faramir'], ['Aragorn', 'Gimli', 'Elrond', 'Frodo', 'Gollum', 'Legolas', 'Faramir', 'Arwen'], ['Frodo', 'Elrond'], ['Elrond', 'Saruman', 'Bilbo', 'Aragorn', 'Frodo', 'Legolas'], ['Elrond', 'Gimli', 'Frodo', 'Saruman', 'Arwen', 'Gandalf', 'Faramir', 'Aragorn', 'Legolas', 'Bilbo'], ['Bilbo', 'Legolas', 'Elrond', 'Frodo', 'Aragorn', 'Saruman', 'Gandalf', 'Gimli', 'Gollum', 'Faramir', 'Arwen'], ['Gimli'], ['Saruman', 'Bilbo', 'Aragorn', 'Frodo', 'Gollum', 'Legolas', 'Arwen', 'Faramir'], ['Frodo', 'Faramir', 'Bilbo', 'Aragorn', 'Gollum', 'Legolas', 'Saruman', 'Gandalf', 'Elrond', 'Arwen', 'Gimli'], ['Arwen', 'Faramir'], ['Gollum', 'Frodo', 'Legolas', 'Arwen', 'Faramir', 'Gimli', 'Aragorn', 'Saruman'], ['Bilbo', 'Gimli', 'Saruman', 'Faramir', 'Gandalf', 'Arwen', 'Legolas', 'Elrond', 'Frodo', 'Aragorn', 'Gollum'], ['Gimli', 'Gandalf', 'Elrond', 'Arwen', 'Frodo', 'Saruman', 'Faramir'], ['Gimli', 'Gollum', 'Bilbo'], ['Faramir', 'Bilbo'], ['Gollum', 'Saruman', 'Gimli', 'Aragorn', 'Bilbo', 'Faramir', 'Arwen', 'Frodo', 'Legolas', 'Gandalf'], ['Aragorn', 'Gollum', 'Arwen', 'Bilbo', 'Legolas'], ['Aragorn', 'Elrond', 'Gollum', 'Legolas', 'Gimli', 'Bilbo', 'Gandalf', 'Saruman', 'Frodo'], ['Saruman', 'Frodo', 'Gandalf'], ['Aragorn', 'Faramir', 'Frodo', 'Gollum', 'Legolas', 'Elrond', 'Bilbo', 'Arwen', 'Gimli'], ['Gimli', 'Frodo', 'Gollum', 'Saruman', 'Aragorn', 'Bilbo'], ['Bilbo', 'Frodo', 'Legolas', 'Arwen', 'Saruman', 'Gimli'], ['Gandalf', 'Saruman'], ['Gollum', 'Aragorn', 'Bilbo', 'Arwen', 'Gimli'], ['Bilbo', 'Arwen', 'Gandalf', 'Elrond', 'Gollum', 'Legolas', 'Faramir'], ['Gandalf'], ['Arwen', 'Saruman', 'Frodo'], ['Elrond'], ['Elrond', 'Gandalf'], ['Elrond', 'Saruman', 'Gandalf', 'Arwen'], ['Faramir', 'Bilbo', 'Frodo', 'Gandalf', 'Legolas', 'Arwen', 'Aragorn', 'Elrond', 'Gimli', 'Gollum', 'Saruman'], ['Bilbo', 'Arwen', 'Elrond', 'Faramir', 'Legolas', 'Frodo', 'Saruman'], ['Faramir', 'Saruman'], ['Faramir', 'Gandalf', 'Saruman', 'Bilbo', 'Elrond', 'Aragorn', 'Gollum', 'Gimli', 'Legolas', 'Frodo'], ['Faramir'], ['Arwen', 'Frodo', 'Gandalf', 'Elrond', 'Aragorn', 'Faramir', 'Gimli', 'Saruman', 'Gollum', 'Legolas'], ['Saruman', 'Frodo', 'Aragorn', 'Elrond', 'Arwen', 'Bilbo', 'Gollum', 'Gandalf', 'Faramir'], ['Saruman', 'Gollum', 'Aragorn', 'Legolas', 'Frodo', 'Elrond', 'Arwen'], ['Gimli', 'Aragorn', 'Saruman'], ['Bilbo', 'Aragorn', 'Frodo', 'Faramir', 'Arwen', 'Gandalf', 'Gimli', 'Legolas', 'Gollum'], ['Bilbo', 'Gimli', 'Arwen', 'Frodo'], ['Faramir', 'Gimli', 'Aragorn', 'Elrond', 'Gollum', 'Arwen', 'Saruman', 'Frodo', 'Gandalf', 'Legolas', 'Bilbo'], ['Faramir', 'Bilbo'], ['Arwen', 'Aragorn', 'Gandalf', 'Gimli', 'Bilbo', 'Gollum', 'Legolas', 'Elrond', 'Saruman', 'Frodo', 'Faramir'], ['Frodo', 'Arwen'], ['Saruman', 'Aragorn', 'Gollum', 'Faramir', 'Arwen', 'Gandalf', 'Gimli', 'Frodo'], ['Frodo', 'Saruman'], ['Gandalf', 'Elrond', 'Saruman', 'Frodo', 'Gollum'], ['Gandalf', 'Elrond', 'Aragorn', 'Frodo', 'Saruman', 'Arwen', 'Faramir', 'Legolas'], ['Gandalf', 'Frodo'], ['Gimli', 'Elrond', 'Gollum', 'Legolas', 'Bilbo'], ['Gollum', 'Elrond', 'Gimli', 'Faramir', 'Bilbo', 'Gandalf', 'Legolas', 'Arwen', 'Saruman', 'Frodo'], ['Aragorn', 'Legolas', 'Gollum', 'Bilbo', 'Arwen', 'Elrond', 'Saruman', 'Gimli', 'Gandalf'], ['Gollum', 'Gimli', 'Frodo', 'Bilbo', 'Arwen'], ['Gollum', 'Gandalf', 'Aragorn', 'Frodo'], ['Elrond', 'Bilbo', 'Legolas', 'Gimli', 'Faramir', 'Arwen', 'Saruman', 'Aragorn'], ['Saruman', 'Aragorn', 'Arwen', 'Bilbo', 'Gimli', 'Faramir', 'Elrond', 'Gollum', 'Legolas'], ['Elrond', 'Frodo'], ['Bilbo', 'Arwen', 'Gandalf', 'Frodo'], ['Legolas', 'Bilbo', 'Gimli', 'Saruman'], ['Gimli', 'Frodo', 'Aragorn', 'Gollum', 'Bilbo', 'Legolas', 'Faramir', 'Elrond', 'Saruman', 'Gandalf', 'Arwen'], ['Elrond', 'Frodo', 'Arwen', 'Gandalf', 'Aragorn', 'Gollum', 'Gimli', 'Faramir', 'Legolas', 'Saruman', 'Bilbo'], ['Gandalf', 'Aragorn', 'Frodo', 'Arwen', 'Legolas', 'Gollum', 'Faramir'], ['Faramir', 'Gandalf', 'Frodo', 'Elrond', 'Legolas', 'Gollum', 'Gimli', 'Bilbo', 'Aragorn', 'Saruman', 'Arwen'], ['Bilbo', 'Gandalf'], ['Arwen', 'Elrond', 'Saruman', 'Legolas', 'Faramir', 'Gollum', 'Bilbo', 'Aragorn', 'Gandalf', 'Frodo', 'Gimli'], ['Gollum', 'Gandalf', 'Frodo', 'Bilbo', 'Saruman', 'Aragorn', 'Arwen', 'Elrond', 'Faramir', 'Gimli'], ['Legolas', 'Saruman'], ['Elrond', 'Faramir', 'Gimli', 'Legolas', 'Gollum', 'Arwen', 'Saruman', 'Aragorn', 'Gandalf', 'Frodo', 'Bilbo'], ['Gollum', 'Aragorn', 'Bilbo', 'Arwen'], ['Gimli', 'Legolas', 'Faramir', 'Arwen', 'Frodo', 'Aragorn', 'Elrond'], ['Legolas', 'Aragorn', 'Faramir', 'Gimli', 'Elrond', 'Frodo', 'Saruman', 'Gollum', 'Gandalf'], ['Bilbo', 'Gimli', 'Legolas', 'Faramir', 'Aragorn', 'Gandalf', 'Arwen', 'Gollum'], ['Arwen', 'Faramir', 'Saruman', 'Aragorn', 'Frodo', 'Bilbo'], ['Elrond'], ['Saruman', 'Gollum', 'Elrond', 'Gandalf', 'Aragorn', 'Legolas', 'Arwen', 'Gimli', 'Faramir', 'Frodo'], ['Gandalf', 'Aragorn', 'Bilbo', 'Frodo', 'Gollum', 'Gimli', 'Elrond', 'Legolas'], ['Gimli', 'Saruman', 'Bilbo', 'Aragorn', 'Faramir', 'Frodo'], ['Gimli', 'Gandalf', 'Gollum', 'Bilbo', 'Faramir', 'Frodo', 'Saruman', 'Arwen', 'Elrond', 'Aragorn', 'Legolas'], ['Frodo', 'Gollum', 'Elrond'], ['Faramir', 'Bilbo', 'Legolas', 'Gollum', 'Gandalf', 'Elrond', 'Aragorn', 'Saruman', 'Arwen', 'Frodo', 'Gimli'], ['Gandalf', 'Bilbo', 'Saruman', 'Gimli', 'Arwen', 'Legolas', 'Frodo', 'Elrond'], ['Legolas', 'Gollum', 'Saruman', 'Gandalf', 'Faramir', 'Gimli', 'Frodo', 'Aragorn'], ['Bilbo', 'Legolas'], ['Arwen', 'Gimli', 'Gandalf', 'Elrond'], ['Frodo', 'Faramir'], ['Faramir'], ['Gollum', 'Elrond'], ['Frodo', 'Arwen', 'Bilbo', 'Aragorn', 'Saruman'], ['Gimli'], ['Gollum', 'Gandalf', 'Arwen', 'Gimli', 'Aragorn', 'Bilbo', 'Saruman', 'Elrond', 'Frodo'], ['Gandalf', 'Arwen', 'Saruman', 'Gimli'], ['Gimli', 'Saruman', 'Gandalf', 'Frodo', 'Arwen', 'Faramir', 'Gollum', 'Elrond', 'Legolas', 'Bilbo'], ['Aragorn', 'Elrond'], ['Bilbo', 'Arwen', 'Faramir'], ['Gandalf', 'Elrond', 'Legolas', 'Gimli', 'Aragorn', 'Gollum', 'Faramir', 'Frodo', 'Saruman', 'Bilbo', 'Arwen'], ['Legolas', 'Gimli', 'Frodo', 'Saruman', 'Bilbo', 'Aragorn', 'Gollum', 'Arwen', 'Elrond', 'Gandalf', 'Faramir'], ['Frodo', 'Legolas', 'Saruman', 'Arwen', 'Bilbo', 'Elrond', 'Gollum'], ['Faramir', 'Aragorn', 'Legolas', 'Saruman', 'Gimli'], ['Gimli', 'Gollum', 'Elrond', 'Gandalf', 'Legolas', 'Faramir', 'Arwen', 'Saruman', 'Bilbo'], ['Bilbo', 'Gandalf', 'Saruman'], ['Gollum', 'Faramir', 'Elrond', 'Gandalf', 'Bilbo', 'Aragorn', 'Frodo', 'Gimli'], ['Elrond', 'Aragorn', 'Legolas', 'Arwen'], ['Gandalf', 'Legolas', 'Faramir', 'Elrond', 'Frodo'], ['Frodo', 'Aragorn', 'Arwen', 'Legolas'], ['Arwen', 'Faramir', 'Aragorn', 'Bilbo', 'Gimli', 'Frodo', 'Legolas', 'Gandalf', 'Gollum', 'Elrond'], ['Faramir', 'Gollum', 'Arwen', 'Aragorn', 'Saruman'], ['Arwen', 'Saruman', 'Frodo', 'Legolas', 'Gollum', 'Gimli', 'Aragorn', 'Elrond', 'Gandalf', 'Faramir', 'Bilbo'], ['Legolas', 'Arwen', 'Elrond', 'Gimli', 'Gandalf'], ['Arwen', 'Gimli', 'Bilbo', 'Gollum', 'Legolas', 'Frodo'], ['Legolas', 'Aragorn', 'Gollum'], ['Gimli', 'Legolas', 'Arwen', 'Aragorn', 'Elrond', 'Faramir', 'Gandalf', 'Bilbo', 'Gollum', 'Saruman'], ['Aragorn', 'Arwen'], ['Saruman', 'Arwen', 'Bilbo', 'Gimli', 'Faramir', 'Frodo', 'Gandalf'], ['Gandalf', 'Saruman', 'Bilbo', 'Aragorn', 'Elrond'], ['Elrond', 'Arwen', 'Legolas', 'Frodo', 'Gandalf', 'Bilbo'], ['Faramir', 'Frodo'], ['Frodo', 'Arwen'], ['Arwen', 'Bilbo'], ['Arwen', 'Frodo', 'Aragorn'], ['Arwen', 'Faramir', 'Aragorn', 'Gandalf', 'Bilbo', 'Frodo', 'Saruman', 'Gimli', 'Legolas', 'Gollum', 'Elrond'], ['Frodo', 'Arwen', 'Elrond', 'Legolas', 'Saruman'], ['Gandalf', 'Aragorn', 'Faramir', 'Arwen', 'Gimli', 'Bilbo', 'Elrond', 'Legolas', 'Frodo', 'Saruman', 'Gollum'], ['Gandalf', 'Saruman', 'Gimli'], ['Faramir', 'Gandalf', 'Bilbo'], ['Saruman', 'Aragorn', 'Bilbo', 'Gandalf', 'Gimli', 'Elrond'], ['Gandalf', 'Saruman', 'Gimli', 'Frodo', 'Gollum', 'Elrond'], ['Legolas', 'Saruman', 'Aragorn'], ['Frodo', 'Arwen', 'Gandalf', 'Elrond', 'Bilbo', 'Gimli', 'Faramir', 'Legolas', 'Saruman', 'Aragorn', 'Gollum'], ['Bilbo', 'Faramir', 'Aragorn', 'Legolas', 'Frodo', 'Gimli', 'Gollum', 'Elrond'], ['Gandalf', 'Arwen', 'Faramir', 'Aragorn', 'Bilbo', 'Legolas', 'Frodo', 'Gimli', 'Saruman', 'Gollum', 'Elrond'], ['Bilbo', 'Legolas', 'Aragorn', 'Frodo', 'Gollum', 'Gimli', 'Faramir', 'Arwen', 'Gandalf', 'Saruman'], ['Gimli', 'Aragorn'], ['Frodo', 'Elrond', 'Saruman', 'Gimli', 'Bilbo', 'Faramir', 'Gollum', 'Aragorn', 'Gandalf'], ['Elrond', 'Faramir', 'Arwen', 'Frodo', 'Saruman', 'Aragorn', 'Gollum', 'Gandalf', 'Gimli', 'Legolas'], ['Gandalf', 'Elrond', 'Legolas', 'Saruman', 'Frodo', 'Aragorn'], ['Saruman'], ['Aragorn', 'Frodo', 'Legolas'], ['Faramir', 'Gollum', 'Aragorn', 'Gimli', 'Bilbo', 'Gandalf', 'Legolas', 'Arwen', 'Frodo'], ['Gimli', 'Bilbo', 'Arwen', 'Gollum', 'Saruman', 'Aragorn', 'Gandalf', 'Legolas'], ['Gandalf', 'Aragorn'], ['Aragorn'], ['Arwen', 'Gollum', 'Elrond', 'Bilbo', 'Faramir', 'Gandalf', 'Gimli', 'Frodo', 'Aragorn', 'Saruman', 'Legolas'], ['Gollum', 'Bilbo', 'Aragorn', 'Arwen', 'Gandalf', 'Legolas', 'Saruman', 'Faramir', 'Gimli', 'Elrond', 'Frodo'], ['Faramir', 'Elrond', 'Saruman'], ['Aragorn', 'Arwen', 'Gandalf', 'Bilbo', 'Saruman', 'Legolas', 'Frodo'], ['Frodo', 'Legolas', 'Faramir', 'Aragorn', 'Bilbo'], ['Faramir', 'Aragorn', 'Gollum', 'Saruman', 'Arwen', 'Elrond'], ['Gimli', 'Frodo', 'Faramir', 'Gandalf', 'Legolas'], ['Gandalf', 'Gimli', 'Frodo', 'Saruman', 'Gollum', 'Elrond', 'Aragorn', 'Faramir', 'Legolas', 'Arwen', 'Bilbo'], ['Faramir', 'Aragorn', 'Elrond', 'Legolas', 'Frodo', 'Gimli', 'Gollum', 'Gandalf', 'Arwen'], ['Arwen', 'Legolas', 'Elrond', 'Frodo', 'Aragorn', 'Gollum', 'Faramir', 'Gandalf', 'Gimli', 'Bilbo', 'Saruman'], ['Gandalf', 'Gimli', 'Arwen', 'Saruman', 'Faramir', 'Bilbo'], ['Aragorn', 'Legolas', 'Arwen'], ['Gollum', 'Gandalf', 'Legolas', 'Arwen'], ['Arwen', 'Gimli', 'Aragorn', 'Gandalf'], ['Aragorn', 'Saruman', 'Elrond', 'Gimli', 'Arwen', 'Gollum', 'Frodo'], ['Gollum'], ['Arwen', 'Gimli'], ['Elrond', 'Frodo', 'Arwen', 'Saruman', 'Gimli', 'Faramir', 'Aragorn', 'Bilbo'], ['Elrond', 'Bilbo', 'Gollum', 'Gimli', 'Aragorn', 'Legolas', 'Saruman', 'Gandalf', 'Arwen', 'Faramir', 'Frodo'], ['Elrond', 'Frodo'], ['Faramir', 'Arwen', 'Frodo', 'Gollum'], ['Elrond', 'Legolas', 'Arwen', 'Faramir', 'Gimli', 'Gandalf', 'Bilbo', 'Saruman', 'Frodo'], ['Saruman', 'Frodo', 'Legolas', 'Faramir'], ['Aragorn'], ['Legolas', 'Aragorn', 'Bilbo', 'Arwen'], ['Frodo', 'Aragorn', 'Gimli'], ['Faramir', 'Bilbo', 'Aragorn', 'Elrond', 'Gimli'], ['Frodo', 'Gollum', 'Faramir', 'Gimli', 'Saruman', 'Gandalf', 'Bilbo', 'Elrond', 'Legolas'], ['Legolas', 'Frodo', 'Aragorn'], ['Gandalf', 'Faramir', 'Bilbo', 'Elrond', 'Aragorn', 'Arwen', 'Gimli', 'Gollum', 'Legolas', 'Frodo'], ['Gimli'], ['Legolas', 'Frodo', 'Aragorn', 'Faramir', 'Arwen', 'Gimli', 'Saruman', 'Elrond', 'Gandalf'], ['Saruman', 'Frodo', 'Gandalf'], ['Bilbo'], ['Frodo', 'Faramir', 'Bilbo', 'Gandalf', 'Gimli', 'Aragorn'], ['Gandalf', 'Gimli', 'Saruman', 'Elrond'], ['Faramir', 'Saruman', 'Gollum', 'Bilbo', 'Gandalf', 'Arwen', 'Gimli'], ['Bilbo', 'Legolas', 'Gimli', 'Frodo', 'Gandalf', 'Gollum', 'Saruman', 'Arwen', 'Elrond', 'Aragorn', 'Faramir'], ['Arwen', 'Gollum', 'Faramir'], ['Gandalf', 'Arwen', 'Gollum', 'Faramir', 'Frodo'], ['Saruman', 'Gollum', 'Frodo'], ['Elrond', 'Aragorn', 'Frodo', 'Gimli', 'Gandalf', 'Arwen', 'Faramir', 'Legolas', 'Saruman', 'Gollum', 'Bilbo'], ['Elrond'], ['Arwen', 'Legolas', 'Gollum'], ['Frodo'], ['Gimli', 'Arwen', 'Aragorn', 'Gandalf', 'Saruman', 'Faramir', 'Frodo', 'Bilbo', 'Legolas', 'Gollum'], ['Aragorn', 'Arwen', 'Saruman', 'Elrond', 'Gandalf', 'Legolas', 'Gimli', 'Bilbo', 'Frodo'], ['Bilbo', 'Faramir', 'Frodo', 'Gandalf', 'Legolas', 'Aragorn'], ['Arwen', 'Gollum', 'Gimli', 'Legolas'], ['Gandalf', 'Gollum', 'Aragorn'], ['Gandalf', 'Aragorn', 'Elrond'], ['Frodo', 'Faramir', 'Aragorn', 'Gimli', 'Saruman', 'Gollum', 'Elrond', 'Gandalf', 'Legolas'], ['Gandalf', 'Saruman', 'Gimli', 'Frodo', 'Gollum', 'Bilbo'], ['Gimli', 'Legolas', 'Gandalf', 'Arwen', 'Aragorn'], ['Gimli', 'Bilbo', 'Saruman', 'Legolas', 'Faramir', 'Frodo', 'Gollum'], ['Bilbo', 'Gimli', 'Frodo', 'Aragorn', 'Legolas', 'Gandalf', 'Gollum', 'Faramir', 'Arwen'], ['Frodo', 'Arwen'], ['Aragorn', 'Gollum', 'Frodo', 'Elrond', 'Faramir', 'Arwen', 'Legolas', 'Gandalf'], ['Saruman', 'Gollum', 'Gandalf', 'Bilbo', 'Frodo', 'Legolas', 'Aragorn', 'Arwen', 'Elrond'], ['Faramir', 'Frodo', 'Gandalf', 'Saruman', 'Arwen', 'Aragorn', 'Bilbo'], ['Aragorn', 'Gimli', 'Legolas', 'Elrond', 'Arwen', 'Saruman', 'Bilbo', 'Gandalf', 'Faramir', 'Frodo'], ['Legolas', 'Frodo', 'Bilbo', 'Gimli', 'Arwen', 'Faramir', 'Gandalf'], ['Faramir'], ['Legolas', 'Gandalf', 'Bilbo', 'Faramir', 'Elrond', 'Saruman'], ['Frodo', 'Gimli', 'Faramir', 'Legolas', 'Saruman', 'Gollum', 'Arwen', 'Gandalf', 'Aragorn', 'Elrond'], ['Gollum', 'Saruman', 'Arwen', 'Legolas', 'Aragorn', 'Gimli'], ['Gandalf', 'Saruman'], ['Legolas', 'Gollum', 'Faramir'], ['Arwen', 'Gimli', 'Legolas', 'Saruman', 'Faramir', 'Gandalf', 'Frodo', 'Bilbo', 'Gollum'], ['Legolas', 'Gandalf', 'Faramir', 'Frodo', 'Gimli', 'Gollum', 'Saruman', 'Elrond', 'Bilbo'], ['Gimli', 'Aragorn', 'Gandalf', 'Frodo', 'Saruman', 'Legolas', 'Faramir', 'Elrond', 'Gollum'], ['Saruman', 'Faramir', 'Legolas', 'Arwen', 'Gollum', 'Gandalf', 'Aragorn', 'Gimli'], ['Faramir', 'Gimli', 'Bilbo', 'Gollum', 'Gandalf', 'Legolas', 'Saruman', 'Aragorn', 'Arwen', 'Frodo'], ['Gimli', 'Legolas', 'Gandalf', 'Frodo', 'Faramir'], ['Aragorn', 'Saruman', 'Legolas', 'Frodo', 'Gollum'], ['Gollum', 'Saruman', 'Bilbo', 'Gandalf', 'Faramir', 'Frodo', 'Gimli', 'Aragorn', 'Elrond', 'Arwen', 'Legolas'], ['Saruman', 'Gollum', 'Legolas', 'Frodo'], ['Gandalf', 'Gollum'], ['Arwen', 'Frodo', 'Elrond', 'Gollum', 'Faramir'], ['Elrond', 'Gimli', 'Gandalf', 'Faramir', 'Legolas', 'Frodo', 'Aragorn', 'Saruman', 'Arwen'], ['Saruman', 'Gandalf', 'Gollum', 'Bilbo', 'Arwen', 'Frodo'], ['Faramir', 'Legolas', 'Gandalf', 'Arwen', 'Elrond', 'Saruman', 'Gimli', 'Frodo'], ['Frodo'], ['Arwen', 'Legolas', 'Saruman'], ['Elrond'], ['Faramir', 'Gimli'], ['Gollum', 'Aragorn', 'Bilbo', 'Frodo', 'Legolas', 'Gimli', 'Gandalf'], ['Gollum', 'Saruman', 'Aragorn'], ['Gollum', 'Elrond', 'Aragorn', 'Legolas', 'Bilbo', 'Arwen', 'Frodo', 'Faramir', 'Gandalf', 'Saruman', 'Gimli'], ['Gollum', 'Arwen'], ['Gandalf', 'Bilbo', 'Arwen', 'Legolas', 'Aragorn', 'Faramir'], ['Saruman', 'Arwen', 'Frodo', 'Aragorn'], ['Gimli', 'Elrond', 'Legolas', 'Gollum', 'Faramir', 'Arwen', 'Bilbo', 'Gandalf', 'Frodo', 'Saruman'], ['Arwen', 'Elrond', 'Gandalf', 'Gollum', 'Gimli', 'Frodo'], ['Frodo', 'Saruman', 'Elrond', 'Legolas', 'Gollum', 'Aragorn', 'Gandalf', 'Bilbo'], ['Gollum', 'Bilbo', 'Faramir', 'Saruman', 'Frodo', 'Gimli', 'Elrond'], ['Aragorn', 'Gimli', 'Legolas', 'Saruman', 'Faramir'], ['Aragorn', 'Elrond'], ['Elrond', 'Gollum', 'Gimli', 'Arwen', 'Legolas', 'Faramir', 'Saruman', 'Gandalf', 'Frodo', 'Bilbo', 'Aragorn'], ['Gimli', 'Elrond', 'Gandalf', 'Faramir'], ['Arwen', 'Faramir', 'Saruman', 'Aragorn', 'Bilbo', 'Frodo', 'Gandalf', 'Gollum'], ['Faramir', 'Arwen', 'Legolas', 'Aragorn'], ['Aragorn', 'Arwen', 'Gimli', 'Frodo', 'Gollum', 'Saruman', 'Elrond'], ['Arwen', 'Aragorn', 'Legolas', 'Saruman', 'Bilbo', 'Gandalf', 'Elrond', 'Faramir', 'Frodo', 'Gollum'], ['Bilbo', 'Faramir', 'Gandalf', 'Gimli', 'Frodo'], ['Gandalf', 'Arwen', 'Faramir', 'Gollum', 'Legolas', 'Bilbo', 'Saruman', 'Frodo', 'Aragorn'], ['Frodo', 'Saruman', 'Gollum', 'Bilbo'], ['Arwen', 'Saruman', 'Frodo', 'Aragorn', 'Legolas', 'Faramir', 'Gollum'], ['Gandalf', 'Faramir', 'Aragorn', 'Frodo', 'Saruman', 'Arwen', 'Legolas', 'Bilbo', 'Gimli', 'Gollum', 'Elrond'], ['Gimli', 'Faramir', 'Arwen', 'Bilbo', 'Gollum', 'Elrond', 'Saruman', 'Frodo', 'Legolas'], ['Faramir', 'Saruman', 'Arwen', 'Gimli', 'Gandalf', 'Gollum', 'Legolas', 'Frodo', 'Aragorn', 'Bilbo', 'Elrond'], ['Faramir', 'Saruman', 'Elrond', 'Frodo', 'Gandalf', 'Legolas', 'Gimli', 'Arwen', 'Bilbo'], ['Gimli', 'Frodo', 'Aragorn', 'Arwen'], ['Faramir', 'Bilbo', 'Gandalf', 'Aragorn', 'Elrond', 'Gimli', 'Arwen', 'Legolas', 'Gollum', 'Frodo', 'Saruman'], ['Bilbo', 'Gimli', 'Aragorn', 'Gandalf'], ['Faramir', 'Gandalf'], ['Gimli', 'Gollum', 'Bilbo', 'Saruman'], ['Faramir', 'Gimli', 'Saruman', 'Aragorn', 'Legolas'], ['Aragorn'], ['Arwen', 'Aragorn'], ['Bilbo', 'Saruman', 'Gollum', 'Faramir', 'Gimli', 'Legolas', 'Gandalf', 'Frodo'], ['Arwen', 'Gimli', 'Gollum', 'Faramir'], ['Saruman', 'Gimli', 'Faramir', 'Bilbo', 'Gollum', 'Elrond', 'Aragorn', 'Arwen', 'Frodo', 'Legolas', 'Gandalf'], ['Gollum', 'Frodo', 'Gandalf', 'Legolas', 'Aragorn', 'Bilbo', 'Saruman'], ['Elrond'], ['Arwen', 'Gollum', 'Gimli', 'Elrond', 'Frodo'], ['Saruman', 'Aragorn', 'Gandalf', 'Gimli', 'Faramir'], ['Arwen', 'Legolas', 'Gimli', 'Bilbo', 'Aragorn'], ['Faramir', 'Bilbo', 'Aragorn', 'Legolas', 'Saruman', 'Gimli', 'Gandalf', 'Elrond'], ['Gollum', 'Elrond', 'Frodo', 'Legolas', 'Gandalf', 'Saruman', 'Aragorn', 'Bilbo'], ['Gollum', 'Gandalf'], ['Legolas', 'Frodo', 'Gollum'], ['Frodo', 'Saruman', 'Gimli'], ['Frodo', 'Gimli', 'Gollum', 'Arwen'], ['Aragorn', 'Gimli', 'Gollum'], ['Gollum', 'Arwen', 'Gandalf', 'Saruman'], ['Aragorn', 'Faramir', 'Bilbo', 'Elrond', 'Arwen'], ['Gimli', 'Aragorn', 'Saruman', 'Bilbo', 'Frodo', 'Gollum', 'Elrond', 'Arwen', 'Faramir', 'Legolas'], ['Bilbo', 'Gimli', 'Gollum', 'Saruman', 'Arwen', 'Gandalf', 'Aragorn', 'Elrond', 'Frodo', 'Legolas'], ['Legolas', 'Elrond', 'Bilbo', 'Faramir', 'Gimli'], ['Gimli', 'Frodo', 'Elrond', 'Gandalf', 'Arwen', 'Faramir', 'Bilbo', 'Gollum', 'Saruman'], ['Gandalf', 'Saruman', 'Legolas', 'Bilbo', 'Aragorn', 'Arwen', 'Frodo', 'Gollum', 'Elrond'], ['Gandalf', 'Bilbo', 'Aragorn', 'Elrond', 'Arwen'], ['Gandalf', 'Aragorn', 'Arwen', 'Faramir', 'Bilbo', 'Legolas', 'Elrond', 'Frodo', 'Gimli', 'Gollum', 'Saruman'], ['Saruman', 'Gandalf', 'Aragorn', 'Faramir', 'Elrond', 'Arwen', 'Frodo', 'Legolas', 'Gimli', 'Gollum'], ['Frodo', 'Bilbo'], ['Elrond', 'Arwen', 'Faramir', 'Legolas'], ['Faramir', 'Aragorn', 'Arwen', 'Gimli', 'Gollum', 'Bilbo', 'Saruman', 'Legolas', 'Elrond', 'Frodo'], ['Saruman'], ['Gollum', 'Saruman', 'Legolas', 'Aragorn', 'Gandalf', 'Bilbo', 'Arwen', 'Faramir', 'Elrond', 'Gimli', 'Frodo'], ['Bilbo', 'Faramir', 'Frodo', 'Gandalf', 'Gollum', 'Arwen'], ['Gandalf', 'Arwen', 'Faramir', 'Frodo', 'Gollum', 'Saruman', 'Bilbo', 'Legolas'], ['Aragorn', 'Arwen', 'Gimli', 'Gollum', 'Legolas', 'Saruman', 'Faramir'], ['Elrond', 'Legolas', 'Aragorn', 'Gandalf', 'Arwen', 'Gollum', 'Frodo', 'Gimli', 'Saruman', 'Bilbo'], ['Gollum', 'Elrond', 'Gimli', 'Legolas', 'Arwen', 'Gandalf', 'Saruman', 'Faramir', 'Bilbo', 'Aragorn', 'Frodo'], ['Gandalf', 'Frodo', 'Gimli', 'Gollum', 'Bilbo'], ['Saruman', 'Gimli', 'Elrond'], ['Gimli', 'Saruman', 'Gollum'], ['Faramir'], ['Arwen', 'Frodo', 'Gimli', 'Legolas', 'Saruman', 'Faramir'], ['Bilbo', 'Gollum', 'Frodo', 'Faramir', 'Saruman'], ['Frodo', 'Arwen', 'Elrond'], ['Bilbo', 'Gandalf'], ['Elrond', 'Legolas', 'Bilbo', 'Gandalf'], ['Gimli', 'Gandalf', 'Saruman', 'Arwen', 'Legolas', 'Faramir', 'Elrond', 'Frodo', 'Gollum', 'Bilbo'], ['Gollum', 'Bilbo', 'Gandalf', 'Arwen', 'Aragorn', 'Legolas', 'Gimli', 'Saruman', 'Elrond'], ['Elrond', 'Faramir', 'Gandalf', 'Gimli', 'Arwen', 'Saruman', 'Aragorn'], ['Bilbo', 'Saruman', 'Faramir'], ['Saruman', 'Legolas', 'Elrond', 'Gollum', 'Faramir', 'Bilbo'], ['Saruman', 'Aragorn', 'Faramir', 'Gandalf'], ['Elrond', 'Legolas'], ['Saruman'], ['Elrond', 'Bilbo', 'Gimli', 'Saruman', 'Legolas', 'Faramir', 'Frodo'], ['Gollum', 'Faramir', 'Arwen', 'Gimli', 'Saruman', 'Legolas'], ['Frodo', 'Gimli', 'Legolas', 'Saruman', 'Faramir', 'Bilbo'], ['Gimli'], ['Elrond', 'Arwen', 'Legolas', 'Faramir', 'Aragorn', 'Gandalf', 'Gollum', 'Gimli', 'Bilbo', 'Frodo'], ['Bilbo', 'Saruman', 'Faramir', 'Legolas'], ['Gimli', 'Gandalf', 'Saruman', 'Arwen'], ['Elrond', 'Aragorn', 'Faramir', 'Bilbo', 'Gandalf', 'Arwen', 'Gollum', 'Legolas', 'Saruman', 'Frodo'], ['Arwen', 'Gollum', 'Elrond', 'Frodo', 'Gandalf', 'Gimli', 'Legolas', 'Saruman', 'Aragorn'], ['Legolas', 'Faramir', 'Arwen'], ['Bilbo', 'Gimli'], ['Frodo'], ['Elrond', 'Saruman', 'Gandalf'], ['Saruman', 'Bilbo', 'Frodo', 'Arwen', 'Gollum', 'Elrond'], ['Arwen', 'Gollum'], ['Arwen', 'Elrond', 'Faramir', 'Gollum', 'Aragorn', 'Saruman', 'Legolas', 'Gimli', 'Bilbo'], ['Gimli'], ['Gimli', 'Gollum', 'Elrond', 'Bilbo', 'Saruman', 'Legolas', 'Aragorn', 'Faramir', 'Gandalf'], ['Saruman', 'Bilbo', 'Frodo', 'Arwen', 'Elrond'], ['Legolas', 'Gimli', 'Bilbo'], ['Frodo', 'Elrond', 'Legolas', 'Gandalf'], ['Legolas', 'Gimli'], ['Arwen', 'Elrond', 'Saruman', 'Aragorn', 'Bilbo', 'Gandalf', 'Frodo'], ['Gollum', 'Aragorn', 'Saruman', 'Arwen', 'Bilbo', 'Gimli', 'Gandalf', 'Legolas', 'Faramir'], ['Legolas', 'Bilbo', 'Gimli', 'Gollum', 'Frodo'], ['Gandalf', 'Frodo', 'Arwen', 'Gollum', 'Aragorn', 'Bilbo'], ['Saruman', 'Gandalf', 'Faramir', 'Legolas', 'Gollum', 'Bilbo', 'Gimli', 'Aragorn', 'Arwen', 'Elrond'], ['Faramir'], ['Gimli', 'Arwen', 'Bilbo', 'Legolas'], ['Gimli', 'Arwen', 'Gandalf'], ['Saruman', 'Gimli', 'Arwen'], ['Bilbo', 'Legolas', 'Elrond', 'Gollum', 'Aragorn', 'Gimli', 'Arwen', 'Frodo', 'Gandalf', 'Faramir', 'Saruman'], ['Faramir', 'Gollum', 'Legolas', 'Arwen', 'Aragorn', 'Saruman', 'Gandalf', 'Frodo', 'Gimli', 'Bilbo'], ['Saruman', 'Faramir', 'Gandalf', 'Frodo'], ['Saruman', 'Gollum', 'Faramir', 'Aragorn', 'Frodo'], ['Arwen', 'Gimli', 'Bilbo', 'Legolas', 'Faramir'], ['Aragorn', 'Faramir', 'Bilbo', 'Elrond', 'Gandalf'], ['Faramir', 'Frodo', 'Aragorn', 'Gollum', 'Elrond', 'Gandalf'], ['Bilbo', 'Legolas', 'Gollum', 'Saruman', 'Aragorn', 'Elrond', 'Arwen', 'Gimli', 'Gandalf', 'Frodo'], ['Gandalf', 'Frodo', 'Gimli'], ['Bilbo', 'Gimli', 'Arwen', 'Gollum'], ['Gandalf', 'Gollum', 'Bilbo'], ['Gimli', 'Saruman', 'Elrond', 'Gandalf', 'Aragorn', 'Legolas', 'Frodo'], ['Gimli', 'Arwen', 'Aragorn', 'Gandalf', 'Gollum', 'Bilbo', 'Elrond', 'Saruman', 'Faramir', 'Legolas', 'Frodo'], ['Bilbo', 'Frodo', 'Arwen', 'Aragorn'], ['Gollum', 'Arwen', 'Aragorn', 'Elrond', 'Gandalf', 'Gimli', 'Legolas', 'Frodo', 'Bilbo', 'Saruman', 'Faramir'], ['Frodo', 'Legolas', 'Elrond'], ['Aragorn', 'Elrond', 'Legolas', 'Bilbo', 'Saruman', 'Faramir', 'Frodo', 'Gandalf'], ['Saruman', 'Frodo', 'Bilbo', 'Faramir', 'Gandalf', 'Elrond', 'Aragorn', 'Gimli', 'Arwen', 'Legolas'], ['Faramir', 'Saruman', 'Gandalf', 'Legolas', 'Bilbo'], ['Bilbo', 'Legolas', 'Arwen'], ['Saruman'], ['Gimli', 'Saruman', 'Aragorn'], ['Aragorn', 'Saruman'], ['Elrond'], ['Gollum', 'Gandalf', 'Bilbo', 'Gimli'], ['Gimli', 'Arwen', 'Saruman', 'Aragorn'], ['Arwen', 'Frodo', 'Gollum', 'Saruman', 'Aragorn', 'Elrond', 'Faramir', 'Bilbo', 'Gandalf', 'Legolas'], ['Legolas', 'Aragorn', 'Bilbo', 'Gimli', 'Saruman', 'Arwen', 'Gollum', 'Faramir', 'Elrond', 'Gandalf'], ['Elrond', 'Legolas', 'Gimli'], ['Elrond'], ['Faramir', 'Legolas', 'Saruman', 'Gollum', 'Elrond', 'Gandalf', 'Frodo', 'Gimli', 'Aragorn', 'Bilbo'], ['Legolas', 'Gollum', 'Faramir', 'Elrond', 'Aragorn', 'Frodo', 'Bilbo', 'Gandalf', 'Saruman', 'Gimli', 'Arwen'], ['Arwen', 'Bilbo', 'Gollum', 'Saruman', 'Aragorn', 'Frodo', 'Elrond', 'Gimli', 'Legolas', 'Gandalf', 'Faramir'], ['Frodo', 'Bilbo', 'Saruman', 'Gandalf'], ['Legolas', 'Frodo', 'Gollum', 'Gimli', 'Faramir', 'Elrond', 'Bilbo', 'Aragorn', 'Saruman', 'Arwen'], ['Aragorn', 'Frodo', 'Elrond', 'Legolas', 'Faramir', 'Gimli', 'Gandalf'], ['Gollum', 'Arwen', 'Saruman', 'Gandalf', 'Aragorn', 'Legolas', 'Bilbo', 'Elrond'], ['Frodo'], ['Saruman', 'Elrond', 'Arwen', 'Faramir', 'Aragorn', 'Legolas', 'Gandalf', 'Gollum', 'Frodo', 'Gimli'], ['Aragorn', 'Gimli', 'Gollum', 'Arwen', 'Faramir'], ['Gimli'], ['Gandalf', 'Bilbo', 'Frodo', 'Aragorn', 'Gollum'], ['Frodo', 'Arwen', 'Gollum', 'Aragorn'], ['Elrond', 'Bilbo', 'Gandalf', 'Legolas', 'Gimli', 'Gollum', 'Faramir', 'Frodo'], ['Bilbo', 'Elrond'], ['Saruman', 'Bilbo', 'Legolas', 'Gandalf', 'Arwen', 'Gimli', 'Frodo'], ['Gimli'], ['Gandalf', 'Gimli'], ['Elrond', 'Gandalf', 'Bilbo', 'Arwen', 'Gollum', 'Saruman', 'Gimli', 'Frodo'], ['Gandalf'], ['Frodo', 'Legolas', 'Arwen', 'Aragorn', 'Gimli'], ['Legolas', 'Elrond', 'Arwen', 'Gandalf', 'Aragorn'], ['Elrond'], ['Legolas', 'Arwen', 'Gollum', 'Frodo', 'Bilbo', 'Saruman', 'Faramir', 'Gimli', 'Gandalf', 'Elrond', 'Aragorn'], ['Elrond', 'Faramir', 'Gandalf', 'Legolas', 'Bilbo', 'Arwen'], ['Arwen', 'Bilbo', 'Gimli', 'Legolas', 'Aragorn', 'Elrond', 'Gandalf', 'Gollum'], ['Gandalf', 'Legolas', 'Frodo'], ['Arwen', 'Faramir', 'Gandalf', 'Gimli', 'Saruman', 'Bilbo', 'Legolas', 'Aragorn'], ['Faramir', 'Gimli', 'Saruman', 'Frodo'], ['Arwen', 'Gandalf'], ['Legolas', 'Arwen', 'Frodo', 'Gimli', 'Gandalf', 'Gollum', 'Aragorn', 'Faramir', 'Saruman', 'Elrond', 'Bilbo'], ['Saruman', 'Aragorn', 'Faramir'], ['Gimli', 'Aragorn', 'Gollum', 'Bilbo', 'Saruman', 'Frodo'], ['Faramir', 'Gimli', 'Arwen', 'Frodo', 'Legolas', 'Aragorn', 'Gandalf', 'Bilbo'], ['Aragorn', 'Elrond', 'Gandalf', 'Faramir', 'Gimli', 'Bilbo', 'Arwen', 'Gollum', 'Saruman', 'Legolas'], ['Legolas', 'Frodo', 'Faramir', 'Gimli', 'Bilbo'], ['Aragorn', 'Frodo', 'Faramir', 'Bilbo', 'Elrond'], ['Faramir', 'Elrond', 'Arwen', 'Legolas', 'Bilbo', 'Gandalf', 'Saruman', 'Gimli', 'Frodo'], ['Gollum', 'Elrond', 'Saruman', 'Bilbo', 'Gimli', 'Frodo', 'Gandalf', 'Legolas', 'Aragorn'], ['Elrond', 'Frodo', 'Gimli', 'Gollum', 'Faramir', 'Aragorn', 'Legolas', 'Saruman', 'Gandalf'], ['Gollum', 'Elrond', 'Gandalf', 'Saruman', 'Arwen', 'Bilbo', 'Frodo', 'Legolas', 'Faramir', 'Gimli'], ['Aragorn', 'Gandalf', 'Elrond', 'Legolas'], ['Gandalf', 'Bilbo', 'Faramir', 'Aragorn', 'Legolas', 'Gimli', 'Gollum', 'Frodo', 'Arwen', 'Elrond', 'Saruman'], ['Bilbo', 'Arwen', 'Frodo', 'Gimli', 'Aragorn', 'Saruman', 'Gandalf', 'Faramir', 'Gollum'], ['Elrond'], ['Frodo', 'Gandalf', 'Aragorn', 'Gollum', 'Elrond', 'Gimli', 'Faramir', 'Bilbo', 'Arwen', 'Saruman', 'Legolas'], ['Elrond', 'Legolas', 'Saruman', 'Gandalf', 'Gimli', 'Bilbo', 'Gollum', 'Frodo', 'Faramir', 'Arwen'], ['Faramir', 'Frodo', 'Elrond', 'Aragorn', 'Saruman', 'Legolas', 'Gollum'], ['Gandalf'], ['Gandalf', 'Legolas', 'Faramir', 'Arwen', 'Aragorn', 'Gollum', 'Bilbo', 'Saruman', 'Gimli', 'Elrond'], ['Aragorn', 'Gimli', 'Elrond', 'Gollum', 'Arwen', 'Frodo'], ['Legolas', 'Bilbo', 'Faramir', 'Gollum', 'Aragorn', 'Arwen', 'Saruman'], ['Faramir'], ['Arwen', 'Frodo', 'Gimli', 'Legolas', 'Saruman', 'Faramir', 'Elrond'], ['Gollum', 'Gandalf', 'Saruman', 'Bilbo', 'Gimli', 'Frodo', 'Arwen', 'Aragorn', 'Faramir', 'Legolas', 'Elrond'], ['Frodo', 'Arwen', 'Bilbo', 'Gollum', 'Legolas', 'Saruman', 'Elrond', 'Aragorn'], ['Gandalf', 'Elrond', 'Gimli', 'Arwen', 'Gollum', 'Aragorn', 'Bilbo', 'Frodo', 'Saruman', 'Faramir', 'Legolas'], ['Gimli', 'Gollum', 'Saruman', 'Faramir', 'Gandalf', 'Elrond', 'Aragorn', 'Bilbo'], ['Aragorn', 'Faramir', 'Arwen', 'Gimli', 'Gandalf', 'Legolas', 'Frodo', 'Elrond', 'Bilbo', 'Saruman'], ['Bilbo'], ['Arwen', 'Faramir', 'Frodo', 'Bilbo', 'Legolas', 'Saruman', 'Gimli'], ['Bilbo', 'Gollum', 'Arwen'], ['Saruman', 'Arwen', 'Bilbo', 'Frodo', 'Aragorn', 'Legolas', 'Elrond'], ['Gandalf', 'Aragorn', 'Saruman', 'Elrond'], ['Gimli', 'Gandalf', 'Gollum', 'Aragorn', 'Legolas', 'Frodo', 'Elrond', 'Faramir', 'Saruman', 'Arwen', 'Bilbo'], ['Aragorn', 'Frodo', 'Bilbo', 'Elrond', 'Arwen', 'Saruman', 'Gollum', 'Gimli'], ['Gimli', 'Frodo', 'Arwen', 'Aragorn', 'Gollum', 'Legolas', 'Gandalf', 'Elrond', 'Saruman', 'Bilbo'], ['Gollum', 'Gimli', 'Elrond', 'Aragorn', 'Frodo', 'Saruman', 'Bilbo', 'Gandalf'], ['Faramir', 'Elrond', 'Gimli', 'Frodo', 'Arwen'], ['Gandalf', 'Faramir'], ['Bilbo', 'Gollum', 'Arwen'], ['Elrond', 'Legolas', 'Saruman', 'Faramir', 'Aragorn', 'Bilbo', 'Arwen'], ['Gollum'], ['Aragorn'], ['Legolas', 'Frodo', 'Elrond'], ['Legolas', 'Bilbo', 'Faramir', 'Saruman', 'Elrond'], ['Frodo', 'Saruman', 'Bilbo', 'Elrond', 'Gandalf', 'Faramir', 'Aragorn', 'Legolas', 'Gimli'], ['Faramir', 'Aragorn', 'Bilbo', 'Legolas', 'Gollum'], ['Faramir', 'Gandalf', 'Gimli', 'Legolas', 'Gollum'], ['Elrond', 'Gimli', 'Gandalf', 'Arwen', 'Frodo', 'Aragorn', 'Gollum', 'Faramir', 'Legolas', 'Bilbo'], ['Gimli'], ['Arwen', 'Legolas', 'Gollum', 'Gandalf', 'Saruman', 'Gimli', 'Elrond', 'Aragorn', 'Faramir', 'Bilbo'], ['Frodo'], ['Faramir', 'Saruman'], ['Arwen', 'Gandalf', 'Aragorn', 'Legolas'], ['Gandalf', 'Saruman', 'Bilbo', 'Arwen', 'Aragorn'], ['Faramir', 'Legolas', 'Bilbo', 'Frodo', 'Arwen', 'Gollum', 'Saruman', 'Gandalf'], ['Frodo', 'Faramir', 'Arwen', 'Legolas', 'Aragorn', 'Bilbo', 'Gimli', 'Gandalf', 'Elrond', 'Saruman'], ['Saruman', 'Gimli'], ['Gandalf', 'Frodo'], ['Gandalf', 'Legolas', 'Arwen', 'Bilbo', 'Frodo', 'Saruman', 'Gimli', 'Faramir', 'Gollum'], ['Faramir', 'Gimli', 'Legolas', 'Bilbo', 'Arwen', 'Aragorn'], ['Gimli'], ['Gandalf', 'Legolas', 'Gimli', 'Faramir'], ['Faramir', 'Saruman', 'Aragorn', 'Arwen', 'Gimli', 'Gollum', 'Gandalf', 'Bilbo'], ['Frodo', 'Gollum', 'Legolas', 'Bilbo'], ['Gandalf', 'Saruman', 'Elrond', 'Frodo', 'Bilbo', 'Arwen', 'Faramir', 'Gimli'], ['Arwen', 'Gimli', 'Bilbo', 'Gandalf', 'Legolas', 'Elrond', 'Frodo', 'Faramir', 'Saruman', 'Gollum'], ['Gollum', 'Bilbo', 'Gimli', 'Elrond', 'Saruman', 'Frodo', 'Faramir', 'Arwen', 'Legolas', 'Gandalf'], ['Frodo', 'Saruman', 'Gollum'], ['Saruman', 'Faramir', 'Elrond', 'Legolas', 'Bilbo', 'Frodo', 'Aragorn'], ['Gollum', 'Frodo', 'Saruman', 'Elrond', 'Legolas', 'Bilbo', 'Arwen'], ['Faramir', 'Legolas', 'Arwen', 'Frodo', 'Saruman', 'Elrond', 'Aragorn', 'Gollum', 'Gimli', 'Gandalf', 'Bilbo'], ['Arwen', 'Bilbo', 'Gandalf'], ['Faramir', 'Elrond', 'Gandalf', 'Gimli', 'Saruman', 'Arwen', 'Aragorn', 'Bilbo'], ['Frodo', 'Saruman', 'Elrond', 'Gollum', 'Gandalf', 'Legolas', 'Gimli', 'Faramir', 'Aragorn', 'Bilbo', 'Arwen'], ['Gandalf', 'Faramir', 'Frodo', 'Gimli', 'Arwen', 'Saruman', 'Legolas', 'Gollum', 'Elrond', 'Bilbo'], ['Frodo'], ['Gollum', 'Saruman', 'Gandalf', 'Elrond', 'Aragorn', 'Arwen'], ['Gimli', 'Aragorn', 'Legolas', 'Bilbo', 'Elrond'], ['Saruman', 'Bilbo', 'Aragorn', 'Faramir', 'Gimli', 'Frodo', 'Gandalf', 'Arwen', 'Gollum', 'Legolas'], ['Aragorn', 'Gandalf', 'Elrond', 'Bilbo', 'Legolas', 'Saruman', 'Faramir', 'Frodo', 'Gimli'], ['Bilbo', 'Gandalf', 'Saruman', 'Aragorn', 'Elrond', 'Gollum', 'Frodo'], ['Frodo', 'Gollum', 'Gandalf', 'Legolas', 'Aragorn', 'Bilbo', 'Elrond', 'Arwen', 'Faramir', 'Saruman', 'Gimli'], ['Saruman', 'Frodo', 'Gimli', 'Aragorn', 'Arwen', 'Faramir', 'Bilbo', 'Legolas', 'Gollum', 'Gandalf'], ['Legolas', 'Aragorn', 'Saruman', 'Elrond'], ['Aragorn', 'Elrond', 'Legolas'], ['Saruman', 'Elrond', 'Aragorn', 'Frodo', 'Bilbo'], ['Faramir', 'Gollum', 'Aragorn', 'Gimli', 'Legolas', 'Frodo', 'Elrond', 'Arwen', 'Bilbo'], ['Bilbo', 'Frodo'], ['Arwen', 'Legolas', 'Bilbo', 'Gandalf', 'Gollum', 'Faramir', 'Frodo', 'Gimli', 'Elrond', 'Saruman', 'Aragorn'], ['Aragorn', 'Faramir', 'Gandalf', 'Bilbo', 'Frodo', 'Saruman', 'Gimli', 'Legolas', 'Arwen'], ['Arwen'], ['Arwen', 'Gandalf', 'Elrond', 'Frodo'], ['Frodo'], ['Gollum', 'Faramir', 'Gandalf', 'Elrond', 'Legolas', 'Gimli', 'Arwen', 'Saruman', 'Frodo', 'Bilbo', 'Aragorn'], ['Elrond', 'Saruman', 'Aragorn', 'Legolas', 'Bilbo', 'Gandalf', 'Faramir', 'Gimli', 'Arwen'], ['Gandalf', 'Arwen', 'Faramir', 'Gimli', 'Frodo', 'Gollum', 'Saruman', 'Aragorn'], ['Legolas', 'Gimli', 'Aragorn'], ['Saruman'], ['Gandalf', 'Frodo', 'Gimli', 'Arwen', 'Faramir', 'Gollum', 'Saruman', 'Aragorn', 'Bilbo', 'Elrond', 'Legolas'], ['Bilbo', 'Arwen', 'Gollum', 'Gandalf', 'Frodo', 'Aragorn', 'Faramir'], ['Bilbo', 'Elrond', 'Faramir', 'Legolas', 'Frodo', 'Arwen', 'Gandalf', 'Gollum'], ['Arwen', 'Faramir', 'Elrond', 'Aragorn', 'Bilbo'], ['Arwen', 'Legolas', 'Bilbo', 'Aragorn', 'Saruman'], ['Frodo', 'Aragorn', 'Gimli', 'Gollum', 'Legolas', 'Saruman'], ['Bilbo', 'Faramir', 'Gimli', 'Saruman', 'Gollum', 'Legolas', 'Frodo', 'Arwen', 'Aragorn', 'Gandalf', 'Elrond'], ['Saruman', 'Gollum', 'Frodo', 'Elrond'], ['Gollum', 'Arwen', 'Legolas', 'Frodo', 'Elrond', 'Gimli', 'Saruman'], ['Frodo'], ['Elrond', 'Gimli', 'Legolas', 'Arwen', 'Faramir'], ['Arwen', 'Frodo', 'Aragorn', 'Legolas', 'Gollum', 'Faramir', 'Bilbo', 'Gandalf', 'Gimli'], ['Gollum', 'Gimli'], ['Gandalf', 'Saruman', 'Gollum', 'Bilbo', 'Frodo', 'Arwen', 'Faramir', 'Aragorn'], ['Arwen', 'Gimli', 'Frodo', 'Elrond', 'Gandalf', 'Legolas', 'Aragorn', 'Faramir', 'Saruman', 'Bilbo'], ['Gimli'], ['Aragorn', 'Bilbo', 'Gollum', 'Frodo', 'Arwen', 'Elrond', 'Gandalf', 'Saruman'], ['Aragorn', 'Bilbo', 'Gollum', 'Gandalf', 'Elrond', 'Legolas', 'Gimli'], ['Faramir', 'Gollum', 'Gimli', 'Gandalf', 'Bilbo', 'Saruman', 'Aragorn', 'Frodo'], ['Arwen'], ['Gandalf', 'Arwen', 'Gollum'], ['Saruman', 'Bilbo', 'Faramir', 'Elrond', 'Gollum', 'Arwen', 'Gandalf', 'Frodo', 'Gimli'], ['Bilbo', 'Gollum', 'Gandalf', 'Legolas', 'Aragorn', 'Saruman', 'Elrond', 'Arwen', 'Frodo', 'Faramir'], ['Elrond', 'Bilbo', 'Arwen', 'Aragorn'], ['Elrond', 'Aragorn', 'Bilbo', 'Faramir'], ['Aragorn'], ['Arwen', 'Aragorn', 'Gollum'], ['Gimli', 'Bilbo', 'Legolas', 'Saruman'], ['Arwen', 'Faramir', 'Saruman', 'Gandalf', 'Elrond', 'Legolas', 'Frodo', 'Bilbo', 'Aragorn', 'Gollum'], ['Elrond', 'Legolas', 'Gandalf', 'Frodo', 'Gimli', 'Aragorn', 'Gollum', 'Arwen'], ['Gandalf', 'Aragorn', 'Faramir', 'Frodo', 'Legolas', 'Gollum', 'Elrond'], ['Elrond', 'Gollum', 'Frodo'], ['Bilbo', 'Gollum', 'Frodo', 'Saruman', 'Aragorn'], ['Gandalf', 'Elrond', 'Saruman', 'Legolas', 'Aragorn', 'Arwen', 'Frodo', 'Bilbo', 'Gimli', 'Gollum'], ['Bilbo', 'Gimli', 'Saruman', 'Gollum', 'Faramir', 'Legolas', 'Gandalf', 'Frodo'], ['Bilbo', 'Arwen', 'Gollum', 'Aragorn', 'Faramir', 'Saruman', 'Frodo', 'Gimli', 'Elrond', 'Legolas'], ['Frodo'], ['Frodo', 'Gimli', 'Arwen', 'Aragorn', 'Gollum', 'Bilbo'], ['Bilbo', 'Faramir', 'Aragorn', 'Gandalf', 'Gimli', 'Gollum', 'Saruman', 'Legolas', 'Frodo'], ['Legolas', 'Aragorn', 'Bilbo', 'Faramir', 'Frodo', 'Saruman'], ['Gandalf', 'Elrond'], ['Elrond', 'Gimli', 'Gandalf'], ['Legolas', 'Saruman', 'Bilbo'], ['Saruman', 'Bilbo', 'Elrond'], ['Faramir', 'Frodo', 'Bilbo', 'Arwen', 'Elrond'], ['Gimli', 'Bilbo', 'Faramir', 'Elrond', 'Gandalf', 'Legolas', 'Saruman'], ['Faramir', 'Elrond', 'Aragorn', 'Saruman'], ['Faramir', 'Saruman', 'Gandalf', 'Legolas', 'Gollum', 'Elrond', 'Gimli', 'Frodo', 'Aragorn', 'Bilbo'], ['Gimli', 'Frodo', 'Arwen', 'Gandalf', 'Bilbo', 'Faramir', 'Elrond', 'Legolas', 'Gollum', 'Aragorn', 'Saruman'], ['Elrond', 'Frodo', 'Gollum', 'Bilbo', 'Aragorn', 'Arwen'], ['Gandalf', 'Saruman', 'Gollum', 'Elrond', 'Aragorn', 'Gimli', 'Bilbo', 'Arwen', 'Frodo', 'Faramir', 'Legolas'], ['Faramir', 'Gollum', 'Saruman', 'Aragorn', 'Gimli', 'Gandalf'], ['Gollum'], ['Gimli', 'Gandalf', 'Elrond', 'Faramir', 'Arwen', 'Aragorn', 'Gollum'], ['Gollum', 'Faramir'], ['Gimli', 'Faramir', 'Gollum'], ['Frodo', 'Aragorn'], ['Aragorn', 'Gimli', 'Bilbo', 'Legolas', 'Faramir', 'Elrond', 'Frodo'], ['Elrond', 'Faramir', 'Saruman'], ['Elrond', 'Arwen', 'Faramir'], ['Bilbo', 'Gandalf', 'Elrond', 'Gimli', 'Faramir', 'Frodo'], ['Aragorn', 'Gollum', 'Frodo'], ['Gimli', 'Frodo', 'Saruman', 'Faramir', 'Legolas', 'Arwen'], ['Arwen', 'Gandalf', 'Frodo', 'Faramir', 'Gimli', 'Saruman'], ['Faramir', 'Bilbo', 'Gandalf', 'Legolas', 'Aragorn', 'Elrond', 'Saruman', 'Gimli', 'Gollum', 'Arwen', 'Frodo'], ['Frodo', 'Gollum', 'Saruman', 'Elrond', 'Legolas', 'Bilbo', 'Gandalf', 'Faramir', 'Aragorn', 'Gimli'], ['Gimli', 'Faramir', 'Saruman', 'Gollum', 'Gandalf'], ['Aragorn', 'Saruman', 'Gimli', 'Faramir', 'Arwen'], ['Faramir']]\n"
     ]
    }
   ],
   "source": [
    "import random\n",
    "\n",
    "ballots = []\n",
    "ballots_count = 1500\n",
    "\n",
    "for i in range (0,ballots_count):\n",
    "    random_number = random.randint(1, len(candidates))\n",
    "    #random_number = 10\n",
    "    ballots.append(random.sample(candidates,random_number))\n",
    "\n",
    "print(ballots)"
   ]
  },
  {
   "cell_type": "markdown",
   "id": "24189b14",
   "metadata": {
    "deletable": false,
    "editable": false,
    "nbgrader": {
     "cell_type": "markdown",
     "checksum": "05ab8d6098c7064b1f1f97098aa33aae",
     "grade": false,
     "grade_id": "cell-255dfa90ee79df93",
     "locked": true,
     "schema_version": 3,
     "solution": false,
     "task": false
    }
   },
   "source": [
    "Enter code in the cell below.\n",
    "\n",
    "* Create a function called `counts` which accepts a parameter called `ballotsList`.\n",
    "* This function will accept a list of ballots and calculate counts from the first choice on each ballot and store count totals for candidates in a dictionary using the name of the candidate as the key and the number of votes as the value.\n",
    "* Have the function create an empty dictionary called `results`.\n",
    "* Loop through the ballots in the list `ballotsList`.\n",
    "  * If there is no ballot, continue to the next step.\n",
    "  * If the first name in the ballot is NOT found in the dictionary results, add the name to the dictionary and set the count to 1.\n",
    "  * If the first name in the ballot is found in the dictionary results, increment the count for that name up by 1.\n",
    "* return the dictionary `results`."
   ]
  },
  {
   "cell_type": "code",
   "execution_count": 89,
   "id": "104c1b4b",
   "metadata": {
    "deletable": false,
    "nbgrader": {
     "cell_type": "code",
     "checksum": "49313cb883695b8e6075ae86c4e89b0e",
     "grade": true,
     "grade_id": "cell-6314d25eb8be8ebe",
     "locked": false,
     "points": 2,
     "schema_version": 3,
     "solution": true,
     "task": false
    }
   },
   "outputs": [],
   "source": [
    "def counts(ballotsList):\n",
    "  results = {}\n",
    "  for ballot in ballotsList:\n",
    "      if not ballot:\n",
    "          continue\n",
    "      elif ballot[0] not in results:\n",
    "          results[ballot[0]] = 1\n",
    "      else:\n",
    "          results[ballot[0]] += 1\n",
    "  return results"
   ]
  },
  {
   "cell_type": "markdown",
   "id": "590e9dd4",
   "metadata": {
    "deletable": false,
    "editable": false,
    "nbgrader": {
     "cell_type": "markdown",
     "checksum": "2425d2386b56152c071f32a518b7e028",
     "grade": false,
     "grade_id": "cell-b1d82be8ca04e090",
     "locked": true,
     "schema_version": 3,
     "solution": false,
     "task": false
    }
   },
   "source": [
    "Enter code in the cell below.\n",
    "\n",
    "* Create a function called `create_report` which accepts a parameter called `dict`.\n",
    "* This function will accept a dictionary with candidate names as keys and counts of votes for each candidate as values and generate text of a summary report for some select results.\n",
    "* Have the function include text for the value for the lowest count using the format `low count: [value]` on a separate line.\n",
    "* Have the function include text for a list of the names that have the low count using the format `remove: [list]` on a separate line.\n",
    "* Have the function include text for the value for the highest count using the format `high count: [value]` on a separate line.\n",
    "* Have the function include text for a list of the names that have the high count using the format `lead: [list]` on a separate line.\n",
    "* return the text for the report."
   ]
  },
  {
   "cell_type": "code",
   "execution_count": 90,
   "id": "bc642e7b",
   "metadata": {
    "deletable": false,
    "nbgrader": {
     "cell_type": "code",
     "checksum": "a211528c05226181a469c5ec198d1a42",
     "grade": true,
     "grade_id": "cell-c3f823e9bbf1da41",
     "locked": false,
     "points": 2,
     "schema_version": 3,
     "solution": true,
     "task": false
    }
   },
   "outputs": [],
   "source": [
    "def create_report(dict):\n",
    "  text = ''\n",
    "  text += 'low count: ' + str(min(dict.values())) + '\\n'\n",
    "  text += 'remove: ' + str(key_list(dict, min(dict.values()))) + '\\n'\n",
    "  text += 'high count: ' + str(max(dict.values())) + '\\n'\n",
    "  text += 'lead: ' + str(key_list(dict, max(dict.values()))) + '\\n'\n",
    "  return text"
   ]
  },
  {
   "cell_type": "markdown",
   "id": "e82ab239",
   "metadata": {
    "deletable": false,
    "editable": false,
    "nbgrader": {
     "cell_type": "markdown",
     "checksum": "0bd6fb1d980cf352141f1e88dd1c000f",
     "grade": false,
     "grade_id": "cell-0f48b25518d59d00",
     "locked": true,
     "schema_version": 3,
     "solution": false,
     "task": false
    }
   },
   "source": [
    "Enter code in the cell below.\n",
    "\n",
    "* Create a function called `key_list` which accepts parameters called `dict` and `num`.\n",
    "* This function will accept a dictionary with candidate names as keys and counts of votes for each candidate and a number value and generate a list of names from the dictionary keys which have a value which matches the number submitted as a parameter.\n",
    "  * Create an empty list called `names`.\n",
    "  * Loop through the dictionary keys and values.\n",
    "  * If the value for a key matches the value for `num`, add the dictionary key to the list names.\n",
    "* return the list `names`."
   ]
  },
  {
   "cell_type": "code",
   "execution_count": 91,
   "id": "60abe392",
   "metadata": {
    "deletable": false,
    "nbgrader": {
     "cell_type": "code",
     "checksum": "befc2784242b40a6f120f4203f55f746",
     "grade": true,
     "grade_id": "cell-5f100e1e18ff2255",
     "locked": false,
     "points": 2,
     "schema_version": 3,
     "solution": true,
     "task": false
    }
   },
   "outputs": [],
   "source": [
    "def key_list(dict, num):\n",
    "  names = []\n",
    "  for key, value in dict.items():\n",
    "      if value == num:\n",
    "          names.append(key)\n",
    "  return names"
   ]
  },
  {
   "cell_type": "markdown",
   "id": "5adaea35",
   "metadata": {
    "deletable": false,
    "editable": false,
    "nbgrader": {
     "cell_type": "markdown",
     "checksum": "2ec7cabebfdaed6c3f3d0c6520fb241a",
     "grade": false,
     "grade_id": "cell-889f8538da0101a3",
     "locked": true,
     "schema_version": 3,
     "solution": false,
     "task": false
    }
   },
   "source": [
    "Enter code in the cell below.\n",
    "\n",
    "* Create a function called `drop_low` which accepts parameters called `ballots_list` and `remove_list`.\n",
    "* This function will accept a list of ballots and a list of names to remove from `ballots`, create a copy of the list of ballots, and remove names on `remove_list` from the copy of `ballots_list`.\n",
    "* Import the copy package.\n",
    "  * Create a deep copy of `ballots_list` called `copy_list`. (A deep copy of a list allows you to make changes to the copy without affecting the original.)\n",
    "  * Loop through the ballots in `copy_list` and remove each name in `remove_list` from the ballots in `copy_list`.\n",
    "* return the list `copy_list`."
   ]
  },
  {
   "cell_type": "code",
   "execution_count": 92,
   "id": "b566c49a",
   "metadata": {
    "deletable": false,
    "nbgrader": {
     "cell_type": "code",
     "checksum": "3f74cbd034f87be28bb77c2c3d72e38b",
     "grade": true,
     "grade_id": "cell-f54b96df5d2391ab",
     "locked": false,
     "points": 2,
     "schema_version": 3,
     "solution": true,
     "task": false
    }
   },
   "outputs": [],
   "source": [
    "import copy\n",
    "\n",
    "def drop_low(ballots_list, remove_list):\n",
    "  copy_list = copy.deepcopy(ballots_list)\n",
    "  for ballot in copy_list:\n",
    "      for item in remove_list:\n",
    "          if item in ballot:\n",
    "              ballot.remove(item)\n",
    "  return copy_list"
   ]
  },
  {
   "cell_type": "markdown",
   "id": "25410416",
   "metadata": {
    "deletable": false,
    "editable": false,
    "nbgrader": {
     "cell_type": "markdown",
     "checksum": "89ea97d11966bb09f566a0ddb24fb44e",
     "grade": false,
     "grade_id": "cell-87211dbc107174bf",
     "locked": true,
     "schema_version": 3,
     "solution": false,
     "task": false
    }
   },
   "source": [
    "Enter code in the cell below.\n",
    "\n",
    "* Print a list of the candidates using the format `The candidates are: ` and a list of the candidates.\n",
    "* Print the total number of ballots using the format `total ballots: [value]`.\n",
    "* Determin how many votes are needed to win and assign that number to a variable named `majority` and print the result using the format `needed to win: [value]`."
   ]
  },
  {
   "cell_type": "code",
   "execution_count": 93,
   "id": "36220e32",
   "metadata": {
    "deletable": false,
    "nbgrader": {
     "cell_type": "code",
     "checksum": "4f08e2984a163d914549b992cac0c2a2",
     "grade": true,
     "grade_id": "cell-481114710573767b",
     "locked": false,
     "points": 2,
     "schema_version": 3,
     "solution": true,
     "task": false
    }
   },
   "outputs": [
    {
     "name": "stdout",
     "output_type": "stream",
     "text": [
      "The candidates are:  ['Aragorn', 'Arwen', 'Bilbo', 'Elrond', 'Faramir', 'Frodo', 'Gandalf', 'Gimli', 'Gollum', 'Legolas', 'Saruman']\n",
      "total ballots:  1500\n",
      "needed to win:  751 \n",
      "\n",
      "\n",
      "\n"
     ]
    }
   ],
   "source": [
    "import math\n",
    "\n",
    "print(\"The candidates are: \", candidates)\n",
    "print(\"total ballots: \", len(ballots))\n",
    "\n",
    "if (len(ballots) % 2) == 0:\n",
    "  majority = math.ceil(len(ballots) * .5) + 1\n",
    "else:\n",
    "  majority = math.ceil(len(ballots) * .5)\n",
    "print(\"needed to win: \", majority, '\\n\\n\\n')"
   ]
  },
  {
   "cell_type": "markdown",
   "id": "ce5de0ed",
   "metadata": {
    "deletable": false,
    "editable": false,
    "nbgrader": {
     "cell_type": "markdown",
     "checksum": "0298c05cfd2c7fe96639d13c59798e2e",
     "grade": false,
     "grade_id": "cell-3371d96293306183",
     "locked": true,
     "schema_version": 3,
     "solution": false,
     "task": false
    }
   },
   "source": [
    "Enter code in the cell below.\n",
    "\n",
    "* Create a variable called `winner` which is an empty string.\n",
    "* Create a variable called `round` and give it a starting value of 1.\n",
    "* Create an empty list called `adjusted_ballots`.\n",
    "* Append the list `ballots` into `adjusted_ballots`.\n",
    "* Create a while loop which runs while the variable `winner` is empty.\n",
    "  * Count the ballots.\n",
    "    * Hint: `results = counts(adjusted_ballots[(round-1)])`\n",
    "  * Print the results for the round.\n",
    "    * Hint: `report = create_report(results)`\n",
    "  * Check to see if a majority has been reached. If it has, assign the winner.\n",
    "    * Hint: `winner = key_list(results, max(results.values()))`\n",
    "  * If there is no winner, remove candidates with low votes.\n",
    "    * Hint: `adjusted = drop_low(adjusted_ballots[(round-1)],remove_list)`\n",
    "  * Add the latest round of adjusted ballots to the `adjusted_ballots` list.\n",
    "* Print the winner using the format `The winner is: ` and the name of the winner."
   ]
  },
  {
   "cell_type": "code",
   "execution_count": 94,
   "id": "fe0aed1d",
   "metadata": {
    "deletable": false,
    "nbgrader": {
     "cell_type": "code",
     "checksum": "bb30ab408a7a3e136fadf9a72e184ca2",
     "grade": true,
     "grade_id": "cell-a35d192a9cc75302",
     "locked": false,
     "points": 3,
     "schema_version": 3,
     "solution": true,
     "task": false
    }
   },
   "outputs": [
    {
     "name": "stdout",
     "output_type": "stream",
     "text": [
      "results from round  1 - {'Aragorn': 140, 'Gandalf': 147, 'Faramir': 145, 'Elrond': 140, 'Gimli': 145, 'Gollum': 127, 'Saruman': 129, 'Bilbo': 132, 'Frodo': 138, 'Legolas': 113, 'Arwen': 144}\n",
      "low count: 113\n",
      "remove: ['Legolas']\n",
      "high count: 147\n",
      "lead: ['Gandalf']\n",
      "\n",
      "no majority yet\n",
      "\n",
      "\n",
      "results from round  2 - {'Aragorn': 149, 'Gandalf': 155, 'Faramir': 153, 'Elrond': 148, 'Gimli': 162, 'Gollum': 136, 'Saruman': 142, 'Bilbo': 143, 'Frodo': 151, 'Arwen': 155}\n",
      "low count: 136\n",
      "remove: ['Gollum']\n",
      "high count: 162\n",
      "lead: ['Gimli']\n",
      "\n",
      "no majority yet\n",
      "\n",
      "\n",
      "results from round  3 - {'Aragorn': 167, 'Gandalf': 168, 'Faramir': 167, 'Elrond': 166, 'Gimli': 171, 'Saruman': 157, 'Bilbo': 156, 'Frodo': 167, 'Arwen': 167}\n",
      "low count: 156\n",
      "remove: ['Bilbo']\n",
      "high count: 171\n",
      "lead: ['Gimli']\n",
      "\n",
      "no majority yet\n",
      "\n",
      "\n",
      "results from round  4 - {'Aragorn': 181, 'Gandalf': 187, 'Faramir': 185, 'Elrond': 178, 'Gimli': 200, 'Saruman': 174, 'Frodo': 179, 'Arwen': 189}\n",
      "low count: 174\n",
      "remove: ['Saruman']\n",
      "high count: 200\n",
      "lead: ['Gimli']\n",
      "\n",
      "no majority yet\n",
      "\n",
      "\n",
      "results from round  5 - {'Aragorn': 208, 'Gandalf': 206, 'Faramir': 206, 'Elrond': 195, 'Gimli': 217, 'Frodo': 209, 'Arwen': 204}\n",
      "low count: 195\n",
      "remove: ['Elrond']\n",
      "high count: 217\n",
      "lead: ['Gimli']\n",
      "\n",
      "no majority yet\n",
      "\n",
      "\n",
      "results from round  6 - {'Aragorn': 233, 'Gandalf': 227, 'Faramir': 233, 'Gimli': 252, 'Frodo': 236, 'Arwen': 231}\n",
      "low count: 227\n",
      "remove: ['Gandalf']\n",
      "high count: 252\n",
      "lead: ['Gimli']\n",
      "\n",
      "no majority yet\n",
      "\n",
      "\n",
      "results from round  7 - {'Aragorn': 279, 'Faramir': 267, 'Gimli': 293, 'Frodo': 269, 'Arwen': 272}\n",
      "low count: 267\n",
      "remove: ['Faramir']\n",
      "high count: 293\n",
      "lead: ['Gimli']\n",
      "\n",
      "no majority yet\n",
      "\n",
      "\n",
      "results from round  8 - {'Aragorn': 339, 'Arwen': 319, 'Gimli': 340, 'Frodo': 316}\n",
      "low count: 316\n",
      "remove: ['Frodo']\n",
      "high count: 340\n",
      "lead: ['Gimli']\n",
      "\n",
      "no majority yet\n",
      "\n",
      "\n",
      "results from round  9 - {'Aragorn': 408, 'Arwen': 399, 'Gimli': 418}\n",
      "low count: 399\n",
      "remove: ['Arwen']\n",
      "high count: 418\n",
      "lead: ['Gimli']\n",
      "\n",
      "no majority yet\n",
      "\n",
      "\n",
      "results from round  10 - {'Aragorn': 565, 'Gimli': 537}\n",
      "low count: 537\n",
      "remove: ['Gimli']\n",
      "high count: 565\n",
      "lead: ['Aragorn']\n",
      "\n",
      "no majority yet\n",
      "\n",
      "\n",
      "results from round  11 - {'Aragorn': 822}\n",
      "low count: 822\n",
      "remove: ['Aragorn']\n",
      "high count: 822\n",
      "lead: ['Aragorn']\n",
      "\n",
      "The winner is:  ['Aragorn']\n"
     ]
    }
   ],
   "source": [
    "winner = ''\n",
    "round = 1\n",
    "adjusted_ballots = []\n",
    "adjusted_ballots.append(ballots)\n",
    "\n",
    "while winner == '':\n",
    "  results = counts(adjusted_ballots[(round-1)])\n",
    "  print(\"results from round \", round, \"-\", results)\n",
    "  report = create_report(results)\n",
    "  print(report)\n",
    "\n",
    "  if max(results.values()) >= majority:\n",
    "      winner = key_list(results, max(results.values()))\n",
    "  else:\n",
    "      print(\"no majority yet\\n\\n\")\n",
    "      \n",
    "      \n",
    "  remove_list = key_list(results, min(results.values()))\n",
    "  adjusted = drop_low(adjusted_ballots[(round-1)],remove_list)\n",
    "  adjusted_ballots.append(adjusted)\n",
    "  \n",
    "  round += 1\n",
    "  \n",
    "print(\"The winner is: \",winner)"
   ]
  },
  {
   "cell_type": "code",
   "execution_count": null,
   "id": "f2ee18a1",
   "metadata": {},
   "outputs": [],
   "source": []
  }
 ],
 "metadata": {
  "kernelspec": {
   "display_name": "Python 3 (ipykernel)",
   "language": "python",
   "name": "python3"
  },
  "language_info": {
   "codemirror_mode": {
    "name": "ipython",
    "version": 3
   },
   "file_extension": ".py",
   "mimetype": "text/x-python",
   "name": "python",
   "nbconvert_exporter": "python",
   "pygments_lexer": "ipython3",
   "version": "3.11.4"
  }
 },
 "nbformat": 4,
 "nbformat_minor": 5
}
